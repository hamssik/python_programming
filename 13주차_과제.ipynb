{
  "cells": [
    {
      "cell_type": "markdown",
      "metadata": {
        "id": "view-in-github",
        "colab_type": "text"
      },
      "source": [
        "<a href=\"https://colab.research.google.com/github/hamssik/python_programming/blob/main/13%E1%84%8C%E1%85%AE%E1%84%8E%E1%85%A1_%EA%B3%BC%EC%A0%9C.ipynb\" target=\"_parent\"><img src=\"https://colab.research.google.com/assets/colab-badge.svg\" alt=\"Open In Colab\"/></a>"
      ]
    },
    {
      "cell_type": "code",
      "execution_count": null,
      "id": "2def942b-6c57-4f88-8bfd-a602a79e554c",
      "metadata": {
        "id": "2def942b-6c57-4f88-8bfd-a602a79e554c"
      },
      "outputs": [],
      "source": [
        "import xml.etree.ElementTree as et\n",
        "tree = et.ElementTree(file='menu.xml')\n",
        "root=tree.getroot()"
      ]
    },
    {
      "cell_type": "code",
      "execution_count": null,
      "id": "b3e5a097-0d3c-4d8f-bd9e-dcbe666f15ea",
      "metadata": {
        "id": "b3e5a097-0d3c-4d8f-bd9e-dcbe666f15ea",
        "outputId": "aa6832ca-1bb0-442c-e4eb-d13b3128fc0c"
      },
      "outputs": [
        {
          "name": "stdout",
          "output_type": "stream",
          "text": [
            "menu\n"
          ]
        }
      ],
      "source": [
        "print(root.tag)"
      ]
    },
    {
      "cell_type": "code",
      "execution_count": null,
      "id": "270915ac-949e-4a2e-b9c3-d74d8fa8166c",
      "metadata": {
        "id": "270915ac-949e-4a2e-b9c3-d74d8fa8166c",
        "outputId": "6b820333-6475-447b-b20c-42a2c3d3cb76"
      },
      "outputs": [
        {
          "data": {
            "text/plain": [
              "xml.etree.ElementTree.Element"
            ]
          },
          "execution_count": 10,
          "metadata": {},
          "output_type": "execute_result"
        }
      ],
      "source": [
        "type(root)"
      ]
    },
    {
      "cell_type": "code",
      "execution_count": null,
      "id": "4f97d346-2a6a-402a-b574-af87ec09e224",
      "metadata": {
        "id": "4f97d346-2a6a-402a-b574-af87ec09e224",
        "outputId": "ae9c91ba-5076-42c1-b943-f71a1ca4d5af"
      },
      "outputs": [
        {
          "name": "stdout",
          "output_type": "stream",
          "text": [
            "tag breakfast attributes: {'hours': '7-11'}\n",
            "\ttag: item attributes: {'price': '$6.00'}\n",
            "\ttag: item attributes: {'price': '$4.00'}\n",
            "tag lunch attributes: {'hours': '11-3'}\n",
            "\ttag: item attributes: {'price': '$5.00'}\n",
            "tag dinner attributes: {'hours': '3-10'}\n",
            "\ttag: item attributes: {'price': '8.00'}\n"
          ]
        }
      ],
      "source": [
        "for child in root:\n",
        "    print('tag', child.tag, 'attributes:', child.attrib)\n",
        "    for grandchild in child:\n",
        "        print('\\ttag:', grandchild.tag, 'attributes:', grandchild.attrib)"
      ]
    },
    {
      "cell_type": "code",
      "execution_count": null,
      "id": "e3eb9164-d1e2-4894-a554-0b4bc3c52d7d",
      "metadata": {
        "id": "e3eb9164-d1e2-4894-a554-0b4bc3c52d7d",
        "outputId": "c84a61e7-9c23-4fca-d651-72ae80c02358"
      },
      "outputs": [
        {
          "data": {
            "text/plain": [
              "3"
            ]
          },
          "execution_count": 12,
          "metadata": {},
          "output_type": "execute_result"
        }
      ],
      "source": [
        "len(root)"
      ]
    },
    {
      "cell_type": "code",
      "execution_count": null,
      "id": "a20fb2fd-5602-4236-a544-fce4d3ff719f",
      "metadata": {
        "id": "a20fb2fd-5602-4236-a544-fce4d3ff719f",
        "outputId": "a96557ee-17c2-4c9d-b013-880a05b78870"
      },
      "outputs": [
        {
          "data": {
            "text/plain": [
              "2"
            ]
          },
          "execution_count": 13,
          "metadata": {},
          "output_type": "execute_result"
        }
      ],
      "source": [
        "len(root[0])"
      ]
    },
    {
      "cell_type": "code",
      "execution_count": null,
      "id": "0b2d52ce-e1d4-4d2a-a7b5-cbeffea71fb7",
      "metadata": {
        "id": "0b2d52ce-e1d4-4d2a-a7b5-cbeffea71fb7",
        "outputId": "3c60b6b4-224b-4042-dd79-d831b049076a"
      },
      "outputs": [
        {
          "data": {
            "text/plain": [
              "xml.etree.ElementTree.Element"
            ]
          },
          "execution_count": 14,
          "metadata": {},
          "output_type": "execute_result"
        }
      ],
      "source": [
        "type(root[0])"
      ]
    },
    {
      "cell_type": "code",
      "execution_count": null,
      "id": "9394b971-11d8-46dd-8ba8-4872a37de295",
      "metadata": {
        "id": "9394b971-11d8-46dd-8ba8-4872a37de295",
        "outputId": "529227f3-e5df-4495-bbf2-48ea7d6609a7"
      },
      "outputs": [
        {
          "name": "stdout",
          "output_type": "stream",
          "text": [
            "<Element 'breakfast' at 0x1069da480>\n"
          ]
        }
      ],
      "source": [
        "print(root[0])"
      ]
    },
    {
      "cell_type": "code",
      "execution_count": null,
      "id": "6e8f0be9-ec07-4133-8d9a-84b9ef5b3399",
      "metadata": {
        "id": "6e8f0be9-ec07-4133-8d9a-84b9ef5b3399",
        "outputId": "38523f16-8e97-43a1-a9fa-5d5d965deb71"
      },
      "outputs": [
        {
          "name": "stdout",
          "output_type": "stream",
          "text": [
            "7-11\n"
          ]
        }
      ],
      "source": [
        "print(root[0].get(\"hours\"))"
      ]
    },
    {
      "cell_type": "code",
      "execution_count": null,
      "id": "2cc66ac3-297c-4a36-9eb0-acbbbbaaa3fc",
      "metadata": {
        "id": "2cc66ac3-297c-4a36-9eb0-acbbbbaaa3fc",
        "outputId": "06b08d98-591a-4b8e-988a-31ce67320981"
      },
      "outputs": [
        {
          "name": "stdout",
          "output_type": "stream",
          "text": [
            "['hours']\n"
          ]
        }
      ],
      "source": [
        "print(root[0].keys())"
      ]
    },
    {
      "cell_type": "code",
      "execution_count": null,
      "id": "858926ff-04e0-4fc9-a8fa-e778e0be8478",
      "metadata": {
        "id": "858926ff-04e0-4fc9-a8fa-e778e0be8478",
        "outputId": "61525f3c-c37b-4d5d-895b-77d15259c6d2"
      },
      "outputs": [
        {
          "name": "stdout",
          "output_type": "stream",
          "text": [
            "[('hours', '7-11')]\n"
          ]
        }
      ],
      "source": [
        "print(root[0].items())"
      ]
    },
    {
      "cell_type": "code",
      "execution_count": null,
      "id": "ecbe3e3d-2070-4e95-8c38-ead8480e60da",
      "metadata": {
        "id": "ecbe3e3d-2070-4e95-8c38-ead8480e60da"
      },
      "outputs": [],
      "source": [
        "lunch = root.find(\"lunch\")"
      ]
    },
    {
      "cell_type": "code",
      "execution_count": null,
      "id": "42fbbc2a-3eb7-4faf-ad71-f4c71a744fc0",
      "metadata": {
        "id": "42fbbc2a-3eb7-4faf-ad71-f4c71a744fc0",
        "outputId": "75588ef5-71ae-4f8e-9fda-044847998d69"
      },
      "outputs": [
        {
          "name": "stdout",
          "output_type": "stream",
          "text": [
            "<Element 'lunch' at 0x1069cef20>\n"
          ]
        }
      ],
      "source": [
        "print(lunch)"
      ]
    },
    {
      "cell_type": "code",
      "execution_count": null,
      "id": "5cd8add9-6da5-4a82-bba4-0bbb0612e36d",
      "metadata": {
        "id": "5cd8add9-6da5-4a82-bba4-0bbb0612e36d",
        "outputId": "b4ffd869-fe04-4e4b-9c93-5ed8480d44dc"
      },
      "outputs": [
        {
          "name": "stdout",
          "output_type": "stream",
          "text": [
            "11-3\n"
          ]
        }
      ],
      "source": [
        "print(lunch.get(\"hours\"))"
      ]
    },
    {
      "cell_type": "code",
      "execution_count": null,
      "id": "1bcfbe29-0b1a-4585-9152-18b6ced7881e",
      "metadata": {
        "id": "1bcfbe29-0b1a-4585-9152-18b6ced7881e",
        "outputId": "ad79532b-31d2-432c-fbbf-b4f533c275c9"
      },
      "outputs": [
        {
          "name": "stdout",
          "output_type": "stream",
          "text": [
            "['hours']\n"
          ]
        }
      ],
      "source": [
        "print(lunch.keys())"
      ]
    },
    {
      "cell_type": "code",
      "execution_count": null,
      "id": "05c7c619-6379-41fd-ba95-644ec6a55b71",
      "metadata": {
        "id": "05c7c619-6379-41fd-ba95-644ec6a55b71",
        "outputId": "80ff24f6-2631-4549-fdb4-3ceace8648f9"
      },
      "outputs": [
        {
          "name": "stdout",
          "output_type": "stream",
          "text": [
            "[('hours', '11-3')]\n"
          ]
        }
      ],
      "source": [
        "print(lunch.items())"
      ]
    },
    {
      "cell_type": "code",
      "execution_count": null,
      "id": "b72f0f45-8fe5-4990-ae50-2ce93ae36a91",
      "metadata": {
        "id": "b72f0f45-8fe5-4990-ae50-2ce93ae36a91",
        "outputId": "fe035050-4c5a-4ba4-a0ad-8f8f3880376b"
      },
      "outputs": [
        {
          "data": {
            "text/plain": [
              "xml.etree.ElementTree.Element"
            ]
          },
          "execution_count": 27,
          "metadata": {},
          "output_type": "execute_result"
        }
      ],
      "source": [
        "type(lunch)"
      ]
    },
    {
      "cell_type": "code",
      "execution_count": null,
      "id": "0733a7cc-ba3a-4182-8b1c-1070ad479bbf",
      "metadata": {
        "id": "0733a7cc-ba3a-4182-8b1c-1070ad479bbf",
        "outputId": "6c85dd14-1bb1-4e17-d854-429b28655459"
      },
      "outputs": [
        {
          "name": "stdout",
          "output_type": "stream",
          "text": [
            "[<Element 'item' at 0x1069d9490>, <Element 'item' at 0x1069ceed0>]\n"
          ]
        }
      ],
      "source": [
        "print(root[0].findall('item'))"
      ]
    },
    {
      "cell_type": "code",
      "execution_count": null,
      "id": "2e73ada7-2855-4f79-8c49-b66dd1b257b0",
      "metadata": {
        "id": "2e73ada7-2855-4f79-8c49-b66dd1b257b0",
        "outputId": "105c2744-f41e-4db4-9eb9-c20abe70c84c"
      },
      "outputs": [
        {
          "name": "stdout",
          "output_type": "stream",
          "text": [
            "[<Element 'item' at 0x1069d9490>, <Element 'item' at 0x1069ceed0>]\n",
            "$6.00\n",
            "breakfast burritos\n",
            "$4.00\n",
            "pancakes\n"
          ]
        }
      ],
      "source": [
        "print(root[0].findall('item'))\n",
        "for item in root[0].findall('item'):\n",
        "    print(item.get('price'))\n",
        "    print(item.text)"
      ]
    },
    {
      "cell_type": "code",
      "execution_count": null,
      "id": "154c38fb-eea7-4652-9556-bccc05ffb1f8",
      "metadata": {
        "id": "154c38fb-eea7-4652-9556-bccc05ffb1f8"
      },
      "outputs": [],
      "source": []
    }
  ],
  "metadata": {
    "kernelspec": {
      "display_name": "Python 3 (ipykernel)",
      "language": "python",
      "name": "python3"
    },
    "language_info": {
      "codemirror_mode": {
        "name": "ipython",
        "version": 3
      },
      "file_extension": ".py",
      "mimetype": "text/x-python",
      "name": "python",
      "nbconvert_exporter": "python",
      "pygments_lexer": "ipython3",
      "version": "3.11.5"
    },
    "colab": {
      "provenance": [],
      "include_colab_link": true
    }
  },
  "nbformat": 4,
  "nbformat_minor": 5
}