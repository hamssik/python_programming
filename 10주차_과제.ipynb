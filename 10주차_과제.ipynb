{
  "cells": [
    {
      "cell_type": "markdown",
      "metadata": {
        "id": "view-in-github",
        "colab_type": "text"
      },
      "source": [
        "<a href=\"https://colab.research.google.com/github/hamssik/python_programming/blob/main/10%EC%A3%BC%EC%B0%A8_%EA%B3%BC%EC%A0%9C.ipynb\" target=\"_parent\"><img src=\"https://colab.research.google.com/assets/colab-badge.svg\" alt=\"Open In Colab\"/></a>"
      ]
    },
    {
      "cell_type": "code",
      "execution_count": null,
      "id": "b14911f9-7322-43ff-9f1c-7e65c1a8b615",
      "metadata": {
        "id": "b14911f9-7322-43ff-9f1c-7e65c1a8b615"
      },
      "outputs": [],
      "source": [
        "result=0"
      ]
    },
    {
      "cell_type": "code",
      "execution_count": null,
      "id": "eedadff8-35f0-48fd-8a93-22ebf1fffe4f",
      "metadata": {
        "id": "eedadff8-35f0-48fd-8a93-22ebf1fffe4f"
      },
      "outputs": [],
      "source": [
        "def adder(num):\n",
        "    global result\n",
        "    result += num\n",
        "    return result"
      ]
    },
    {
      "cell_type": "code",
      "execution_count": null,
      "id": "30aeeec4-0442-49d8-b6a0-174fbf4cf75a",
      "metadata": {
        "id": "30aeeec4-0442-49d8-b6a0-174fbf4cf75a",
        "outputId": "6fe465e3-138c-43b3-8628-fcf7883c108e"
      },
      "outputs": [
        {
          "name": "stdout",
          "output_type": "stream",
          "text": [
            "3\n"
          ]
        }
      ],
      "source": [
        "print(adder(3))"
      ]
    },
    {
      "cell_type": "code",
      "execution_count": null,
      "id": "5ed52aab-9f8c-412e-b3a8-cfbd05dcf5c6",
      "metadata": {
        "id": "5ed52aab-9f8c-412e-b3a8-cfbd05dcf5c6",
        "outputId": "80016716-f018-4d9d-f33a-1a9f1d0f724f"
      },
      "outputs": [
        {
          "data": {
            "text/plain": [
              "7"
            ]
          },
          "execution_count": 8,
          "metadata": {},
          "output_type": "execute_result"
        }
      ],
      "source": [
        "adder(4)"
      ]
    },
    {
      "cell_type": "code",
      "execution_count": null,
      "id": "a6bb2ea0-e3b8-4398-8320-eadac91d0e19",
      "metadata": {
        "id": "a6bb2ea0-e3b8-4398-8320-eadac91d0e19",
        "outputId": "478eec69-8942-4f4c-ff60-e50bee344cb6"
      },
      "outputs": [
        {
          "data": {
            "text/plain": [
              "12"
            ]
          },
          "execution_count": 9,
          "metadata": {},
          "output_type": "execute_result"
        }
      ],
      "source": [
        "adder(5)"
      ]
    },
    {
      "cell_type": "code",
      "execution_count": null,
      "id": "c9001e07-81dd-453c-8291-81840e817f05",
      "metadata": {
        "id": "c9001e07-81dd-453c-8291-81840e817f05"
      },
      "outputs": [],
      "source": [
        "result1=0\n",
        "result2=0"
      ]
    },
    {
      "cell_type": "code",
      "execution_count": null,
      "id": "8125399b-3a55-4c08-87ac-b66b30223649",
      "metadata": {
        "id": "8125399b-3a55-4c08-87ac-b66b30223649"
      },
      "outputs": [],
      "source": [
        "def adder1(num):\n",
        "    global result1\n",
        "    result1 += num\n",
        "    return result1"
      ]
    },
    {
      "cell_type": "code",
      "execution_count": null,
      "id": "a9ad258f-7703-4dfd-9829-ea5811035d27",
      "metadata": {
        "id": "a9ad258f-7703-4dfd-9829-ea5811035d27"
      },
      "outputs": [],
      "source": [
        "def adder2(num):\n",
        "    global result2\n",
        "    result2 += num\n",
        "    return result2"
      ]
    },
    {
      "cell_type": "code",
      "execution_count": null,
      "id": "498868ac-5235-45f2-86dc-307cd145a2dd",
      "metadata": {
        "id": "498868ac-5235-45f2-86dc-307cd145a2dd",
        "outputId": "b75a80d7-52ba-4377-acd9-d85237a5e5c9"
      },
      "outputs": [
        {
          "data": {
            "text/plain": [
              "3"
            ]
          },
          "execution_count": 38,
          "metadata": {},
          "output_type": "execute_result"
        }
      ],
      "source": [
        "adder1(3)"
      ]
    },
    {
      "cell_type": "code",
      "execution_count": null,
      "id": "19814189-f8f3-405a-998f-d56df9ba355b",
      "metadata": {
        "id": "19814189-f8f3-405a-998f-d56df9ba355b",
        "outputId": "8fcdc501-3c28-4b30-8d20-6b71e4ae2760"
      },
      "outputs": [
        {
          "data": {
            "text/plain": [
              "7"
            ]
          },
          "execution_count": 39,
          "metadata": {},
          "output_type": "execute_result"
        }
      ],
      "source": [
        "adder1(4)"
      ]
    },
    {
      "cell_type": "code",
      "execution_count": null,
      "id": "764b0bd8-7d65-4f8e-98ab-e11585d6672c",
      "metadata": {
        "id": "764b0bd8-7d65-4f8e-98ab-e11585d6672c",
        "outputId": "af457281-01f0-4667-a881-6fd9880282f2"
      },
      "outputs": [
        {
          "data": {
            "text/plain": [
              "3"
            ]
          },
          "execution_count": 40,
          "metadata": {},
          "output_type": "execute_result"
        }
      ],
      "source": [
        "adder2(3)"
      ]
    },
    {
      "cell_type": "code",
      "execution_count": null,
      "id": "51e1b76f-0590-4e00-8ae5-1dd2c055d83b",
      "metadata": {
        "id": "51e1b76f-0590-4e00-8ae5-1dd2c055d83b",
        "outputId": "8c87549f-b85b-4b4d-9e52-57b7dcb320a5"
      },
      "outputs": [
        {
          "data": {
            "text/plain": [
              "10"
            ]
          },
          "execution_count": 41,
          "metadata": {},
          "output_type": "execute_result"
        }
      ],
      "source": [
        "adder2(7)"
      ]
    },
    {
      "cell_type": "code",
      "execution_count": null,
      "id": "5cc5573d-94b2-489f-a1c4-5faa0b18bd07",
      "metadata": {
        "id": "5cc5573d-94b2-489f-a1c4-5faa0b18bd07"
      },
      "outputs": [],
      "source": [
        "class Calculator:\n",
        "    def __init__(self) :\n",
        "        self.result = 0\n",
        "\n",
        "    def adder(self, num) :\n",
        "        self.result += num\n",
        "        return self.result"
      ]
    },
    {
      "cell_type": "code",
      "execution_count": null,
      "id": "514457bf-2f49-4ff0-a5c7-b26451fe3203",
      "metadata": {
        "id": "514457bf-2f49-4ff0-a5c7-b26451fe3203"
      },
      "outputs": [],
      "source": [
        "cal1 = Calculator()"
      ]
    },
    {
      "cell_type": "code",
      "execution_count": null,
      "id": "36906519-299d-4fb6-a2ed-d6a0e22f5a82",
      "metadata": {
        "id": "36906519-299d-4fb6-a2ed-d6a0e22f5a82",
        "outputId": "62d6316c-391f-4f98-acc7-532d72bdcf64"
      },
      "outputs": [
        {
          "name": "stdout",
          "output_type": "stream",
          "text": [
            "3\n"
          ]
        }
      ],
      "source": [
        "print(cal1.adder(3))"
      ]
    },
    {
      "cell_type": "code",
      "execution_count": null,
      "id": "83d5d7c4-fd31-40df-925d-ca1143c3b4f9",
      "metadata": {
        "id": "83d5d7c4-fd31-40df-925d-ca1143c3b4f9",
        "outputId": "2369ee0c-e29e-4e83-b8bd-d4fd6125d725"
      },
      "outputs": [
        {
          "name": "stdout",
          "output_type": "stream",
          "text": [
            "7\n"
          ]
        }
      ],
      "source": [
        "print(cal1.adder(4))"
      ]
    },
    {
      "cell_type": "code",
      "execution_count": null,
      "id": "7aef9ec6-6eef-4e52-a465-dfeaffbcd73a",
      "metadata": {
        "id": "7aef9ec6-6eef-4e52-a465-dfeaffbcd73a"
      },
      "outputs": [],
      "source": [
        "cal2 = Calculator()"
      ]
    },
    {
      "cell_type": "code",
      "execution_count": null,
      "id": "ababb65a-61d0-46f8-96a0-fd32810f6ba5",
      "metadata": {
        "id": "ababb65a-61d0-46f8-96a0-fd32810f6ba5",
        "outputId": "e872e77b-6295-4682-ccff-8c9359ce0da8"
      },
      "outputs": [
        {
          "name": "stdout",
          "output_type": "stream",
          "text": [
            "3\n"
          ]
        }
      ],
      "source": [
        "print(cal2.adder(3))"
      ]
    },
    {
      "cell_type": "code",
      "execution_count": null,
      "id": "02e480be-ce74-4767-bf66-88b5c90c8ae3",
      "metadata": {
        "id": "02e480be-ce74-4767-bf66-88b5c90c8ae3",
        "outputId": "2b00b71a-f4ee-4053-a55e-ba6a70dd3da9"
      },
      "outputs": [
        {
          "name": "stdout",
          "output_type": "stream",
          "text": [
            "103\n"
          ]
        }
      ],
      "source": [
        "print(cal2.adder(100))"
      ]
    },
    {
      "cell_type": "code",
      "execution_count": 3,
      "id": "a4e2ab42-e745-4f31-a21b-277c1e296a3f",
      "metadata": {
        "id": "a4e2ab42-e745-4f31-a21b-277c1e296a3f"
      },
      "outputs": [],
      "source": [
        "class Service :\n",
        "    secret = \"지구는 3006년에 멸망한다.\""
      ]
    },
    {
      "cell_type": "code",
      "execution_count": 4,
      "id": "19cd4338-1dec-4920-989a-565fa23f9361",
      "metadata": {
        "id": "19cd4338-1dec-4920-989a-565fa23f9361"
      },
      "outputs": [],
      "source": [
        "s=Service()"
      ]
    },
    {
      "cell_type": "code",
      "execution_count": 5,
      "id": "0a24f5d4-269f-443a-82b5-aacf3968b888",
      "metadata": {
        "id": "0a24f5d4-269f-443a-82b5-aacf3968b888",
        "outputId": "8de6d397-8cbc-4853-aea5-a20b50e1b3e6",
        "colab": {
          "base_uri": "https://localhost:8080/",
          "height": 35
        }
      },
      "outputs": [
        {
          "output_type": "execute_result",
          "data": {
            "text/plain": [
              "'지구는 3006년에 멸망한다.'"
            ],
            "application/vnd.google.colaboratory.intrinsic+json": {
              "type": "string"
            }
          },
          "metadata": {},
          "execution_count": 5
        }
      ],
      "source": [
        "s.secret"
      ]
    },
    {
      "cell_type": "code",
      "execution_count": 6,
      "id": "b4018542-a4e1-44c8-adf7-d95702b2aebb",
      "metadata": {
        "id": "b4018542-a4e1-44c8-adf7-d95702b2aebb",
        "outputId": "1f59b871-4740-4069-9ce6-e9a2841089ab",
        "colab": {
          "base_uri": "https://localhost:8080/",
          "height": 35
        }
      },
      "outputs": [
        {
          "output_type": "execute_result",
          "data": {
            "text/plain": [
              "'지구는 3006년에 멸망한다.'"
            ],
            "application/vnd.google.colaboratory.intrinsic+json": {
              "type": "string"
            }
          },
          "metadata": {},
          "execution_count": 6
        }
      ],
      "source": [
        "Service.secret"
      ]
    },
    {
      "cell_type": "code",
      "execution_count": 10,
      "id": "ffa2031b-25d6-4dd8-9821-3e3f40c0d65a",
      "metadata": {
        "id": "ffa2031b-25d6-4dd8-9821-3e3f40c0d65a"
      },
      "outputs": [],
      "source": [
        "Service.secret = '지구가 3006년에 멸망한다는 사실은 거짓이다.'"
      ]
    },
    {
      "cell_type": "code",
      "execution_count": 17,
      "id": "64a5c7c3-b66b-4dc4-a360-4ced9389c69e",
      "metadata": {
        "id": "64a5c7c3-b66b-4dc4-a360-4ced9389c69e",
        "outputId": "cb130964-8195-4045-c73d-94a55dbc9a50",
        "colab": {
          "base_uri": "https://localhost:8080/"
        }
      },
      "outputs": [
        {
          "output_type": "stream",
          "name": "stdout",
          "text": [
            "지구는 4006년에 멸망한다.\n"
          ]
        }
      ],
      "source": [
        "print(an.secret)"
      ]
    },
    {
      "cell_type": "code",
      "execution_count": 18,
      "id": "9bec9e0a-9c4d-4238-a1bb-6772ce168d75",
      "metadata": {
        "id": "9bec9e0a-9c4d-4238-a1bb-6772ce168d75"
      },
      "outputs": [],
      "source": [
        "class Service:\n",
        "    secret = \"지구는 3006년에 멸망한다.\"\n",
        "\n",
        "    def sum(self, a, b):\n",
        "        result=a+b\n",
        "        print(\"%s + %s = %s이다.\" % (a, b, result))"
      ]
    },
    {
      "cell_type": "code",
      "execution_count": 15,
      "id": "b99bb41d-97ec-4ec1-ba81-52d794c18ef3",
      "metadata": {
        "id": "b99bb41d-97ec-4ec1-ba81-52d794c18ef3"
      },
      "outputs": [],
      "source": [
        "an = Service()"
      ]
    },
    {
      "cell_type": "code",
      "execution_count": null,
      "id": "3638cbb5-7002-4e8b-804e-b408f21a745d",
      "metadata": {
        "id": "3638cbb5-7002-4e8b-804e-b408f21a745d",
        "outputId": "b71e6d1b-2844-457f-eeb5-5b0204bc72b5"
      },
      "outputs": [
        {
          "name": "stdout",
          "output_type": "stream",
          "text": [
            "1 + 1 = 2이다.\n"
          ]
        }
      ],
      "source": [
        "an.sum(1,1)"
      ]
    },
    {
      "cell_type": "code",
      "execution_count": null,
      "id": "7e1e74ae-2196-44ad-b9f2-b9c67e46ca88",
      "metadata": {
        "id": "7e1e74ae-2196-44ad-b9f2-b9c67e46ca88",
        "outputId": "b3d51ea7-300f-4b49-e0a8-340318dcddb4"
      },
      "outputs": [
        {
          "name": "stdout",
          "output_type": "stream",
          "text": [
            "2 + 5 = 7이다.\n"
          ]
        }
      ],
      "source": [
        "an.sum(2, 5)"
      ]
    },
    {
      "cell_type": "code",
      "execution_count": 16,
      "id": "6bf19ec4-0c01-43dc-9bc7-f8adcef4210f",
      "metadata": {
        "id": "6bf19ec4-0c01-43dc-9bc7-f8adcef4210f"
      },
      "outputs": [],
      "source": [
        "class Service:\n",
        "    secret = \"지구는 3006년에 멸망 할까나\"\n",
        "    def setname(self, name):\n",
        "        self.name = name\n",
        "\n",
        "    def sum(self, a, b):\n",
        "        result = a+b\n",
        "        print(\"%s님, %s + %s = %s입니다.\" % (self.name, a, b, result))"
      ]
    },
    {
      "cell_type": "code",
      "execution_count": 20,
      "id": "f4ef8087-be6e-482c-9207-8ac76582d411",
      "metadata": {
        "id": "f4ef8087-be6e-482c-9207-8ac76582d411"
      },
      "outputs": [],
      "source": [
        "an=Service()"
      ]
    },
    {
      "cell_type": "code",
      "execution_count": 23,
      "id": "ff7e1400-cf47-4a44-b8e8-770c853ecdb6",
      "metadata": {
        "id": "ff7e1400-cf47-4a44-b8e8-770c853ecdb6",
        "outputId": "001bf76c-874f-477a-db6f-4969a8ef37c9",
        "colab": {
          "base_uri": "https://localhost:8080/",
          "height": 184
        }
      },
      "outputs": [
        {
          "output_type": "error",
          "ename": "AttributeError",
          "evalue": "ignored",
          "traceback": [
            "\u001b[0;31m---------------------------------------------------------------------------\u001b[0m",
            "\u001b[0;31mAttributeError\u001b[0m                            Traceback (most recent call last)",
            "\u001b[0;32m<ipython-input-23-b0e424830efa>\u001b[0m in \u001b[0;36m<cell line: 1>\u001b[0;34m()\u001b[0m\n\u001b[0;32m----> 1\u001b[0;31m \u001b[0man\u001b[0m\u001b[0;34m.\u001b[0m\u001b[0msetname\u001b[0m\u001b[0;34m(\u001b[0m\u001b[0;34m\"명훈이\"\u001b[0m\u001b[0;34m)\u001b[0m\u001b[0;34m\u001b[0m\u001b[0;34m\u001b[0m\u001b[0m\n\u001b[0m",
            "\u001b[0;31mAttributeError\u001b[0m: 'Service' object has no attribute 'setname'"
          ]
        }
      ],
      "source": [
        "an.setname(\"명훈이\")"
      ]
    },
    {
      "cell_type": "code",
      "execution_count": 24,
      "id": "4762c0c6-7e51-4768-9662-0c9b47efce11",
      "metadata": {
        "id": "4762c0c6-7e51-4768-9662-0c9b47efce11",
        "outputId": "aebfcffe-07e2-44a8-db28-1098c3039c88",
        "colab": {
          "base_uri": "https://localhost:8080/"
        }
      },
      "outputs": [
        {
          "output_type": "stream",
          "name": "stdout",
          "text": [
            "1 + 9 = 10이다.\n"
          ]
        }
      ],
      "source": [
        "an.sum(1, 9)"
      ]
    },
    {
      "cell_type": "code",
      "execution_count": 25,
      "id": "35bd9c2a-2d6d-4151-b958-902f8157f4d9",
      "metadata": {
        "id": "35bd9c2a-2d6d-4151-b958-902f8157f4d9"
      },
      "outputs": [],
      "source": [
        "lee = Service()"
      ]
    },
    {
      "cell_type": "code",
      "execution_count": null,
      "id": "550142a0-b6a9-4913-840f-18c70d49c698",
      "metadata": {
        "id": "550142a0-b6a9-4913-840f-18c70d49c698",
        "outputId": "0766dd61-bfbe-446c-e721-73b54670bee7"
      },
      "outputs": [
        {
          "ename": "AttributeError",
          "evalue": "'Service' object has no attribute 'name'",
          "output_type": "error",
          "traceback": [
            "\u001b[0;31m---------------------------------------------------------------------------\u001b[0m",
            "\u001b[0;31mAttributeError\u001b[0m                            Traceback (most recent call last)",
            "Cell \u001b[0;32mIn[117], line 1\u001b[0m\n\u001b[0;32m----> 1\u001b[0m \u001b[43mlee\u001b[49m\u001b[38;5;241;43m.\u001b[39;49m\u001b[43msum\u001b[49m\u001b[43m(\u001b[49m\u001b[38;5;241;43m1\u001b[39;49m\u001b[43m,\u001b[49m\u001b[43m \u001b[49m\u001b[38;5;241;43m8\u001b[39;49m\u001b[43m)\u001b[49m\n",
            "Cell \u001b[0;32mIn[112], line 8\u001b[0m, in \u001b[0;36mService.sum\u001b[0;34m(self, a, b)\u001b[0m\n\u001b[1;32m      6\u001b[0m \u001b[38;5;28;01mdef\u001b[39;00m \u001b[38;5;21msum\u001b[39m(\u001b[38;5;28mself\u001b[39m, a, b):\n\u001b[1;32m      7\u001b[0m     result \u001b[38;5;241m=\u001b[39m a\u001b[38;5;241m+\u001b[39mb\n\u001b[0;32m----> 8\u001b[0m     \u001b[38;5;28mprint\u001b[39m(\u001b[38;5;124m\"\u001b[39m\u001b[38;5;132;01m%s\u001b[39;00m\u001b[38;5;124m님, \u001b[39m\u001b[38;5;132;01m%s\u001b[39;00m\u001b[38;5;124m + \u001b[39m\u001b[38;5;132;01m%s\u001b[39;00m\u001b[38;5;124m = \u001b[39m\u001b[38;5;132;01m%s\u001b[39;00m\u001b[38;5;124m입니다.\u001b[39m\u001b[38;5;124m\"\u001b[39m \u001b[38;5;241m%\u001b[39m (\u001b[38;5;28;43mself\u001b[39;49m\u001b[38;5;241;43m.\u001b[39;49m\u001b[43mname\u001b[49m, a, b, result))\n",
            "\u001b[0;31mAttributeError\u001b[0m: 'Service' object has no attribute 'name'"
          ]
        }
      ],
      "source": [
        "lee.sum(1, 8)"
      ]
    },
    {
      "cell_type": "code",
      "execution_count": null,
      "id": "6f548505-925d-4fca-8107-59aedbdc7d38",
      "metadata": {
        "id": "6f548505-925d-4fca-8107-59aedbdc7d38"
      },
      "outputs": [],
      "source": [
        "an.setname(\"lee\")"
      ]
    },
    {
      "cell_type": "code",
      "execution_count": null,
      "id": "bd17dffa-d490-499f-b4c4-f5a77689a794",
      "metadata": {
        "id": "bd17dffa-d490-499f-b4c4-f5a77689a794",
        "outputId": "afcaf443-e0f3-4bab-8175-4241514baa2f"
      },
      "outputs": [
        {
          "name": "stdout",
          "output_type": "stream",
          "text": [
            "lee님, 1 + 8 = 9입니다.\n"
          ]
        }
      ],
      "source": [
        "an.sum(1, 8)"
      ]
    },
    {
      "cell_type": "code",
      "execution_count": null,
      "id": "1b3c8e3d-b9f6-455b-8093-1038a6f1ef37",
      "metadata": {
        "id": "1b3c8e3d-b9f6-455b-8093-1038a6f1ef37"
      },
      "outputs": [],
      "source": [
        "class Service:\n",
        "    secret = \"지구는 3006년에 멸망한다.\"\n",
        "    def __init__(self, name):\n",
        "        self.name = name\n",
        "\n",
        "    def sum(self, a, b):\n",
        "        result = a+b\n",
        "        print(\"%s님, %s + %s = %s입니다.\" % (self.name, a, b, result))"
      ]
    },
    {
      "cell_type": "code",
      "execution_count": 28,
      "id": "ac3e5473-b4ed-49d9-87d7-6edb3463a527",
      "metadata": {
        "id": "ac3e5473-b4ed-49d9-87d7-6edb3463a527",
        "outputId": "e595b6d0-bcd1-4b2d-99d9-b5530236cc5c",
        "colab": {
          "base_uri": "https://localhost:8080/",
          "height": 203
        }
      },
      "outputs": [
        {
          "output_type": "error",
          "ename": "TypeError",
          "evalue": "ignored",
          "traceback": [
            "\u001b[0;31m---------------------------------------------------------------------------\u001b[0m",
            "\u001b[0;31mTypeError\u001b[0m                                 Traceback (most recent call last)",
            "\u001b[0;32m<ipython-input-28-fdd474e11e45>\u001b[0m in \u001b[0;36m<cell line: 1>\u001b[0;34m()\u001b[0m\n\u001b[0;32m----> 1\u001b[0;31m \u001b[0man\u001b[0m\u001b[0;34m=\u001b[0m\u001b[0mService\u001b[0m\u001b[0;34m(\u001b[0m\u001b[0;34m\"lee님\"\u001b[0m\u001b[0;34m)\u001b[0m\u001b[0;34m\u001b[0m\u001b[0;34m\u001b[0m\u001b[0m\n\u001b[0m\u001b[1;32m      2\u001b[0m \u001b[0man\u001b[0m\u001b[0;34m.\u001b[0m\u001b[0msum\u001b[0m\u001b[0;34m(\u001b[0m\u001b[0;36m1\u001b[0m\u001b[0;34m,\u001b[0m \u001b[0;36m5\u001b[0m\u001b[0;34m)\u001b[0m\u001b[0;34m\u001b[0m\u001b[0;34m\u001b[0m\u001b[0m\n",
            "\u001b[0;31mTypeError\u001b[0m: Service() takes no arguments"
          ]
        }
      ],
      "source": [
        "an=Service(\"lee님\")\n",
        "an.sum(1, 5)"
      ]
    },
    {
      "cell_type": "code",
      "execution_count": null,
      "id": "81d40fd0-f802-4ec4-ade4-57a57198e4cf",
      "metadata": {
        "id": "81d40fd0-f802-4ec4-ade4-57a57198e4cf"
      },
      "outputs": [],
      "source": [
        "class FourCal:\n",
        "    pass"
      ]
    },
    {
      "cell_type": "code",
      "execution_count": null,
      "id": "27caf357-2bea-4b3b-8a20-a4aff6fc4a60",
      "metadata": {
        "id": "27caf357-2bea-4b3b-8a20-a4aff6fc4a60"
      },
      "outputs": [],
      "source": [
        "a = FourCal()"
      ]
    },
    {
      "cell_type": "code",
      "execution_count": null,
      "id": "0a72be79-2420-44bf-87b1-0670c8ddea1c",
      "metadata": {
        "id": "0a72be79-2420-44bf-87b1-0670c8ddea1c",
        "outputId": "0679bc9e-6bfc-42ed-d741-1a50386dc5a8"
      },
      "outputs": [
        {
          "name": "stdout",
          "output_type": "stream",
          "text": [
            "<class '__main__.FourCal'>\n"
          ]
        }
      ],
      "source": [
        "print(type(a))"
      ]
    },
    {
      "cell_type": "code",
      "execution_count": null,
      "id": "c432d372-1cf2-4575-b5b9-f35194c44d85",
      "metadata": {
        "id": "c432d372-1cf2-4575-b5b9-f35194c44d85"
      },
      "outputs": [],
      "source": [
        "class FourCal:\n",
        "    def setdata(self, first, second):\n",
        "        self.first = first\n",
        "        self.second = second"
      ]
    },
    {
      "cell_type": "code",
      "execution_count": null,
      "id": "f0fafb7d-1418-4c41-bafd-e35fae48482d",
      "metadata": {
        "id": "f0fafb7d-1418-4c41-bafd-e35fae48482d"
      },
      "outputs": [],
      "source": [
        "a = FourCal()"
      ]
    },
    {
      "cell_type": "code",
      "execution_count": null,
      "id": "238b59a4-6800-427c-8e29-9db2da75a619",
      "metadata": {
        "id": "238b59a4-6800-427c-8e29-9db2da75a619"
      },
      "outputs": [],
      "source": [
        "a.setdata(4, 2)"
      ]
    },
    {
      "cell_type": "code",
      "execution_count": null,
      "id": "95307b91-0cc7-481e-85d0-bbfbe430a7d3",
      "metadata": {
        "id": "95307b91-0cc7-481e-85d0-bbfbe430a7d3",
        "outputId": "c3e617c2-32e9-451d-d908-9455ea0f6872"
      },
      "outputs": [
        {
          "name": "stdout",
          "output_type": "stream",
          "text": [
            "4\n"
          ]
        }
      ],
      "source": [
        "print(a.first)"
      ]
    },
    {
      "cell_type": "code",
      "execution_count": null,
      "id": "c426fac5-5613-405f-b7a6-86be94137160",
      "metadata": {
        "id": "c426fac5-5613-405f-b7a6-86be94137160",
        "outputId": "022f02ca-489f-4f1f-9b30-63b52f098c18"
      },
      "outputs": [
        {
          "name": "stdout",
          "output_type": "stream",
          "text": [
            "2\n"
          ]
        }
      ],
      "source": [
        "print(a.second)"
      ]
    },
    {
      "cell_type": "code",
      "execution_count": null,
      "id": "46dc2434-8a34-40ea-b2c6-754f943065ab",
      "metadata": {
        "id": "46dc2434-8a34-40ea-b2c6-754f943065ab",
        "outputId": "c1ece554-c88a-4ccc-95f9-217a75da97da"
      },
      "outputs": [
        {
          "data": {
            "text/plain": [
              "4"
            ]
          },
          "execution_count": 132,
          "metadata": {},
          "output_type": "execute_result"
        }
      ],
      "source": [
        "a.first"
      ]
    },
    {
      "cell_type": "code",
      "execution_count": null,
      "id": "29603ed2-ff65-4ad9-8d14-820f047f62b6",
      "metadata": {
        "id": "29603ed2-ff65-4ad9-8d14-820f047f62b6",
        "outputId": "59a7c663-8636-4b48-f919-729eed33635b"
      },
      "outputs": [
        {
          "data": {
            "text/plain": [
              "2"
            ]
          },
          "execution_count": 133,
          "metadata": {},
          "output_type": "execute_result"
        }
      ],
      "source": [
        "a.second"
      ]
    },
    {
      "cell_type": "code",
      "execution_count": null,
      "id": "85228132-87e2-41d0-a34d-afcac6339cee",
      "metadata": {
        "id": "85228132-87e2-41d0-a34d-afcac6339cee"
      },
      "outputs": [],
      "source": [
        "class FourCal:\n",
        "    def setdata(self, first, second):\n",
        "        self.first = first\n",
        "        self.second = second\n",
        "\n",
        "    def sum(self):\n",
        "        result = self.first + self.second\n",
        "        return result"
      ]
    },
    {
      "cell_type": "code",
      "execution_count": null,
      "id": "947ff97b-b37b-48d5-baf9-f67f6c4a2918",
      "metadata": {
        "id": "947ff97b-b37b-48d5-baf9-f67f6c4a2918"
      },
      "outputs": [],
      "source": [
        "a=FourCal()\n",
        "a.setdata(4, 2)"
      ]
    },
    {
      "cell_type": "code",
      "execution_count": null,
      "id": "afa82f26-5831-4e19-8202-5941e9205ebf",
      "metadata": {
        "id": "afa82f26-5831-4e19-8202-5941e9205ebf",
        "outputId": "564152f8-4e8b-4031-eb6b-3ac42a4b1fbb"
      },
      "outputs": [
        {
          "data": {
            "text/plain": [
              "6"
            ]
          },
          "execution_count": 136,
          "metadata": {},
          "output_type": "execute_result"
        }
      ],
      "source": [
        "a.sum()"
      ]
    },
    {
      "cell_type": "code",
      "execution_count": null,
      "id": "6065c457-2e5c-4143-b9fd-d260f617f35e",
      "metadata": {
        "id": "6065c457-2e5c-4143-b9fd-d260f617f35e"
      },
      "outputs": [],
      "source": [
        "class FourCal:\n",
        "    def setdata2(self, first, second):\n",
        "        self.first = first\n",
        "        self.second = second\n",
        "\n",
        "    def sum(self):\n",
        "        result = self.first + self.second\n",
        "        return result\n",
        "\n",
        "    def mul(self):\n",
        "        result = self.first * self.second\n",
        "        return result\n",
        "\n",
        "    def sub(self):\n",
        "        result = self.first - self.second\n",
        "        return result\n",
        "\n",
        "    def div(self):\n",
        "        result = self.first / self.second\n",
        "        return result"
      ]
    },
    {
      "cell_type": "code",
      "execution_count": null,
      "id": "081461bc-6d9b-447e-bdc4-e306de7e2df4",
      "metadata": {
        "id": "081461bc-6d9b-447e-bdc4-e306de7e2df4"
      },
      "outputs": [],
      "source": [
        "a = FourCal()"
      ]
    },
    {
      "cell_type": "code",
      "execution_count": null,
      "id": "957d8a9a-8486-4134-8840-547af29218a3",
      "metadata": {
        "id": "957d8a9a-8486-4134-8840-547af29218a3"
      },
      "outputs": [],
      "source": [
        "a.setdata2(4, 2)"
      ]
    },
    {
      "cell_type": "code",
      "execution_count": null,
      "id": "e95afb82-1a82-4022-af39-19340046a5de",
      "metadata": {
        "id": "e95afb82-1a82-4022-af39-19340046a5de",
        "outputId": "a3ed511b-853f-43ae-b74f-4250ea8ef766"
      },
      "outputs": [
        {
          "name": "stdout",
          "output_type": "stream",
          "text": [
            "6\n"
          ]
        }
      ],
      "source": [
        "print(a.sum())"
      ]
    },
    {
      "cell_type": "code",
      "execution_count": null,
      "id": "f218d887-5d35-42df-950a-9be94ca18340",
      "metadata": {
        "id": "f218d887-5d35-42df-950a-9be94ca18340",
        "outputId": "0e635793-176d-447b-8d24-6f2deda3b106"
      },
      "outputs": [
        {
          "data": {
            "text/plain": [
              "8"
            ]
          },
          "execution_count": 185,
          "metadata": {},
          "output_type": "execute_result"
        }
      ],
      "source": [
        "a.mul()"
      ]
    },
    {
      "cell_type": "code",
      "execution_count": null,
      "id": "6685da8c-b053-4803-b638-8fe6f6eff4c3",
      "metadata": {
        "id": "6685da8c-b053-4803-b638-8fe6f6eff4c3",
        "outputId": "f46b7934-20ba-482e-90c6-f9f409b71aad"
      },
      "outputs": [
        {
          "data": {
            "text/plain": [
              "2"
            ]
          },
          "execution_count": 186,
          "metadata": {},
          "output_type": "execute_result"
        }
      ],
      "source": [
        "a.sub()"
      ]
    },
    {
      "cell_type": "code",
      "execution_count": null,
      "id": "334d5613-4f76-4917-957b-229503eb7fd5",
      "metadata": {
        "id": "334d5613-4f76-4917-957b-229503eb7fd5",
        "outputId": "d7f128ab-0b76-447b-9051-af036a0b128d"
      },
      "outputs": [
        {
          "data": {
            "text/plain": [
              "2.0"
            ]
          },
          "execution_count": 187,
          "metadata": {},
          "output_type": "execute_result"
        }
      ],
      "source": [
        "a.div()"
      ]
    },
    {
      "cell_type": "code",
      "execution_count": null,
      "id": "e8b1c1ef-eb8d-4d49-8c70-218a659aadad",
      "metadata": {
        "id": "e8b1c1ef-eb8d-4d49-8c70-218a659aadad"
      },
      "outputs": [],
      "source": [
        "b = FourCal()"
      ]
    },
    {
      "cell_type": "code",
      "execution_count": null,
      "id": "c3588322-e173-4a9b-9721-210f0fd39126",
      "metadata": {
        "id": "c3588322-e173-4a9b-9721-210f0fd39126"
      },
      "outputs": [],
      "source": [
        "b.setdata2(5, 6)"
      ]
    },
    {
      "cell_type": "code",
      "execution_count": null,
      "id": "7eb9d150-edee-4817-885d-be54bf4ca98c",
      "metadata": {
        "id": "7eb9d150-edee-4817-885d-be54bf4ca98c",
        "outputId": "414c4d1f-f343-49e2-98d9-6ed4e4aadbd1"
      },
      "outputs": [
        {
          "data": {
            "text/plain": [
              "-1"
            ]
          },
          "execution_count": 191,
          "metadata": {},
          "output_type": "execute_result"
        }
      ],
      "source": [
        "b.sub()"
      ]
    },
    {
      "cell_type": "code",
      "execution_count": null,
      "id": "6a5accd4-fbaf-4eb3-9d8c-26d3fd980248",
      "metadata": {
        "id": "6a5accd4-fbaf-4eb3-9d8c-26d3fd980248",
        "outputId": "b83187e4-9c70-4735-cc8a-7cbf28fa9c13"
      },
      "outputs": [
        {
          "name": "stdout",
          "output_type": "stream",
          "text": [
            "Player 1 rolled[1, 5, 3]\n",
            "Player 2 rolled[2, 2, 6]\n",
            "Player 2 wins\n"
          ]
        }
      ],
      "source": [
        "import random\n",
        "\n",
        "player1_dice = []\n",
        "player2_dice = []\n",
        "\n",
        "for i in range(3) :\n",
        "    player1_dice.append(random.randint(1, 6))\n",
        "    player2_dice.append(random.randint(1, 6))\n",
        "\n",
        "print(\"Player 1 rolled\" + str(player1_dice))\n",
        "print(\"Player 2 rolled\" + str(player2_dice))\n",
        "\n",
        "if sum(player1_dice) == sum(player2_dice):\n",
        "    print(\"Draw\")\n",
        "elif sum(player1_dice) > sum(player2_dice):\n",
        "    print(\"Player 1 wins\")\n",
        "else:\n",
        "    print(\"Player 2 wins\")"
      ]
    },
    {
      "cell_type": "code",
      "execution_count": null,
      "id": "a503dc57-1b86-452b-a525-fa8ebbde7885",
      "metadata": {
        "id": "a503dc57-1b86-452b-a525-fa8ebbde7885"
      },
      "outputs": [],
      "source": []
    },
    {
      "cell_type": "code",
      "execution_count": null,
      "id": "28161c82-ebbe-45cb-84ec-b61acbc90571",
      "metadata": {
        "id": "28161c82-ebbe-45cb-84ec-b61acbc90571"
      },
      "outputs": [],
      "source": []
    }
  ],
  "metadata": {
    "kernelspec": {
      "display_name": "Python 3 (ipykernel)",
      "language": "python",
      "name": "python3"
    },
    "language_info": {
      "codemirror_mode": {
        "name": "ipython",
        "version": 3
      },
      "file_extension": ".py",
      "mimetype": "text/x-python",
      "name": "python",
      "nbconvert_exporter": "python",
      "pygments_lexer": "ipython3",
      "version": "3.11.5"
    },
    "colab": {
      "provenance": [],
      "include_colab_link": true
    }
  },
  "nbformat": 4,
  "nbformat_minor": 5
}