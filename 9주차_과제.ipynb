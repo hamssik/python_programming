{
  "cells": [
    {
      "cell_type": "markdown",
      "metadata": {
        "id": "view-in-github",
        "colab_type": "text"
      },
      "source": [
        "<a href=\"https://colab.research.google.com/github/hamssik/python_programming/blob/main/9%EC%A3%BC%EC%B0%A8_%EA%B3%BC%EC%A0%9C.ipynb\" target=\"_parent\"><img src=\"https://colab.research.google.com/assets/colab-badge.svg\" alt=\"Open In Colab\"/></a>"
      ]
    },
    {
      "cell_type": "code",
      "execution_count": null,
      "id": "41fcdcaa-3468-48bb-b010-95757ea3a260",
      "metadata": {
        "id": "41fcdcaa-3468-48bb-b010-95757ea3a260"
      },
      "outputs": [],
      "source": [
        "f = [1, 2, 3, 4, 5]"
      ]
    },
    {
      "cell_type": "code",
      "execution_count": null,
      "id": "f66bb34b-cf68-4705-b0e3-8a6f603a9f03",
      "metadata": {
        "id": "f66bb34b-cf68-4705-b0e3-8a6f603a9f03",
        "outputId": "b76af9a2-c1ca-4b09-edaa-63619a60663f"
      },
      "outputs": [
        {
          "data": {
            "text/plain": [
              "[1, 2, 3, 4, 5]"
            ]
          },
          "execution_count": 2,
          "metadata": {},
          "output_type": "execute_result"
        }
      ],
      "source": [
        "f"
      ]
    },
    {
      "cell_type": "code",
      "execution_count": null,
      "id": "b4a5e886-646f-4703-88b7-1719965b6033",
      "metadata": {
        "id": "b4a5e886-646f-4703-88b7-1719965b6033"
      },
      "outputs": [],
      "source": [
        "number_list = []\n",
        "number_list.append(1)\n",
        "number_list.append(2)\n",
        "number_list.append(3)\n",
        "number_list.append(4)\n",
        "number_list.append(5)"
      ]
    },
    {
      "cell_type": "code",
      "execution_count": null,
      "id": "01bae293-43ca-46ce-ba40-b8b834b1cf12",
      "metadata": {
        "id": "01bae293-43ca-46ce-ba40-b8b834b1cf12",
        "outputId": "0d6d3a1e-950a-4de5-ce0b-efb4e71cc457"
      },
      "outputs": [
        {
          "data": {
            "text/plain": [
              "[1, 2, 3, 4, 5]"
            ]
          },
          "execution_count": 6,
          "metadata": {},
          "output_type": "execute_result"
        }
      ],
      "source": [
        "number_list"
      ]
    },
    {
      "cell_type": "code",
      "execution_count": null,
      "id": "100a21bf-97cd-4884-804b-dba735fc01fd",
      "metadata": {
        "id": "100a21bf-97cd-4884-804b-dba735fc01fd",
        "outputId": "a3979318-0562-463a-cd00-00cd7c3db35e"
      },
      "outputs": [
        {
          "data": {
            "text/plain": [
              "[1, 2, 3, 4, 5]"
            ]
          },
          "execution_count": 14,
          "metadata": {},
          "output_type": "execute_result"
        }
      ],
      "source": [
        "list(range(1, 6))"
      ]
    },
    {
      "cell_type": "code",
      "execution_count": null,
      "id": "ff76020e-5779-4809-bf54-4e71538fe0c4",
      "metadata": {
        "id": "ff76020e-5779-4809-bf54-4e71538fe0c4"
      },
      "outputs": [],
      "source": [
        "number_list1 = [number for number in range(1, 6)]"
      ]
    },
    {
      "cell_type": "code",
      "execution_count": null,
      "id": "7ef07b67-3887-4f39-98ac-e03f3d2fb9e3",
      "metadata": {
        "id": "7ef07b67-3887-4f39-98ac-e03f3d2fb9e3",
        "outputId": "3d815361-d0b8-458d-e565-46bad2b8470e"
      },
      "outputs": [
        {
          "data": {
            "text/plain": [
              "[1, 2, 3, 4, 5]"
            ]
          },
          "execution_count": 26,
          "metadata": {},
          "output_type": "execute_result"
        }
      ],
      "source": [
        "number_list1"
      ]
    },
    {
      "cell_type": "code",
      "execution_count": null,
      "id": "e618e3d9-3166-4561-a104-94f574bf1de1",
      "metadata": {
        "id": "e618e3d9-3166-4561-a104-94f574bf1de1"
      },
      "outputs": [],
      "source": [
        "number_list2= [number -1 for number in range(1,6)]"
      ]
    },
    {
      "cell_type": "code",
      "execution_count": null,
      "id": "cffbe25d-a3df-49c6-950e-42b534f37681",
      "metadata": {
        "id": "cffbe25d-a3df-49c6-950e-42b534f37681",
        "outputId": "486ead22-b0d9-48cb-84ef-df61f16859e6"
      },
      "outputs": [
        {
          "data": {
            "text/plain": [
              "[0, 1, 2, 3, 4]"
            ]
          },
          "execution_count": 28,
          "metadata": {},
          "output_type": "execute_result"
        }
      ],
      "source": [
        "number_list2"
      ]
    },
    {
      "cell_type": "code",
      "execution_count": null,
      "id": "598e5456-6f8a-43f0-b0f6-3c6d7e42b591",
      "metadata": {
        "id": "598e5456-6f8a-43f0-b0f6-3c6d7e42b591"
      },
      "outputs": [],
      "source": [
        "a_list = [number for number in range(1, 6) if number % 2 == 1]"
      ]
    },
    {
      "cell_type": "code",
      "execution_count": null,
      "id": "f8a1b3c5-2f96-4791-b7ea-7dfd76594f99",
      "metadata": {
        "id": "f8a1b3c5-2f96-4791-b7ea-7dfd76594f99",
        "outputId": "912d19e8-1836-4f96-8f93-4b7108ef090d"
      },
      "outputs": [
        {
          "data": {
            "text/plain": [
              "[1, 3, 5]"
            ]
          },
          "execution_count": 29,
          "metadata": {},
          "output_type": "execute_result"
        }
      ],
      "source": [
        "a_list"
      ]
    },
    {
      "cell_type": "code",
      "execution_count": null,
      "id": "4c2528b2-0626-40e1-9455-a6316efd77d5",
      "metadata": {
        "id": "4c2528b2-0626-40e1-9455-a6316efd77d5"
      },
      "outputs": [],
      "source": [
        "b_list = []\n",
        "for number in range(1,6) :\n",
        "    if number %2 == 1:\n",
        "        b_list.append(number)"
      ]
    },
    {
      "cell_type": "code",
      "execution_count": null,
      "id": "83a353bf-5324-48c8-bce5-74b6804644d3",
      "metadata": {
        "id": "83a353bf-5324-48c8-bce5-74b6804644d3",
        "outputId": "e8dcb507-313e-474d-be98-2ad15e4d3e81"
      },
      "outputs": [
        {
          "data": {
            "text/plain": [
              "[1, 3, 5]"
            ]
          },
          "execution_count": 35,
          "metadata": {},
          "output_type": "execute_result"
        }
      ],
      "source": [
        "b_list"
      ]
    },
    {
      "cell_type": "code",
      "execution_count": null,
      "id": "287e4f0d-c693-4a31-b381-7c08aca479f7",
      "metadata": {
        "id": "287e4f0d-c693-4a31-b381-7c08aca479f7"
      },
      "outputs": [],
      "source": [
        "sentence = ['I', 'Love', 'Python', 'Soooooooo', 'Much!']"
      ]
    },
    {
      "cell_type": "code",
      "execution_count": null,
      "id": "39d63822-3d9a-4f37-b7ed-231ea3a5eba5",
      "metadata": {
        "id": "39d63822-3d9a-4f37-b7ed-231ea3a5eba5",
        "outputId": "3dccaa7e-dcb1-4413-b649-67598af9dfd9"
      },
      "outputs": [
        {
          "data": {
            "text/plain": [
              "['i', 'love', 'python', 'soooooooo', 'much!']"
            ]
          },
          "execution_count": 47,
          "metadata": {},
          "output_type": "execute_result"
        }
      ],
      "source": [
        "[word.lower() for word in sentence]"
      ]
    },
    {
      "cell_type": "code",
      "execution_count": null,
      "id": "10bedeaf-e115-48cd-a2b2-fb9be607ab24",
      "metadata": {
        "id": "10bedeaf-e115-48cd-a2b2-fb9be607ab24",
        "outputId": "4451b48f-5cd2-460b-fcfa-44c662b3f1c2"
      },
      "outputs": [
        {
          "data": {
            "text/plain": [
              "['Soooooooo']"
            ]
          },
          "execution_count": 48,
          "metadata": {},
          "output_type": "execute_result"
        }
      ],
      "source": [
        "[word for word in sentence if len(word) > 6]"
      ]
    },
    {
      "cell_type": "code",
      "execution_count": null,
      "id": "b573eaff-70fc-482c-891c-4509e9fd8835",
      "metadata": {
        "id": "b573eaff-70fc-482c-891c-4509e9fd8835",
        "outputId": "a364adc7-dbfa-4557-999b-2c25b388f0c3"
      },
      "outputs": [
        {
          "data": {
            "text/plain": [
              "['I', 'LOVE']"
            ]
          },
          "execution_count": 53,
          "metadata": {},
          "output_type": "execute_result"
        }
      ],
      "source": [
        "[word.upper() for word in sentence if len(word) < 5]"
      ]
    },
    {
      "cell_type": "code",
      "execution_count": null,
      "id": "2ec38236-7d4a-4f3f-85d1-f4f08df8e9ad",
      "metadata": {
        "id": "2ec38236-7d4a-4f3f-85d1-f4f08df8e9ad",
        "outputId": "35a32c56-90f0-43be-dd51-0f4199c4bd49"
      },
      "outputs": [
        {
          "data": {
            "text/plain": [
              "[0, 1, 2, 3, 4, 5, 6, 7, 8, 9]"
            ]
          },
          "execution_count": 55,
          "metadata": {},
          "output_type": "execute_result"
        }
      ],
      "source": [
        "list(range(10))"
      ]
    },
    {
      "cell_type": "code",
      "execution_count": null,
      "id": "d724a48e-5c64-42ea-bbe3-58e4e3626df4",
      "metadata": {
        "id": "d724a48e-5c64-42ea-bbe3-58e4e3626df4",
        "outputId": "afb807d7-e883-46bb-e285-3522bdf8652b"
      },
      "outputs": [
        {
          "data": {
            "text/plain": [
              "[(0, 0, 0),\n",
              " (1, 1, 1),\n",
              " (2, 4, 8),\n",
              " (3, 9, 27),\n",
              " (4, 16, 64),\n",
              " (5, 25, 125),\n",
              " (6, 36, 216),\n",
              " (7, 49, 343),\n",
              " (8, 64, 512),\n",
              " (9, 81, 729)]"
            ]
          },
          "execution_count": 56,
          "metadata": {},
          "output_type": "execute_result"
        }
      ],
      "source": [
        "[(x, x ** 2, x ** 3) for x in range(10)]"
      ]
    },
    {
      "cell_type": "code",
      "execution_count": null,
      "id": "c0507bec-a4eb-4327-b914-5ae622758bb4",
      "metadata": {
        "id": "c0507bec-a4eb-4327-b914-5ae622758bb4",
        "outputId": "a4557d0d-9c0e-4d35-aff4-c08b641c17f0"
      },
      "outputs": [
        {
          "name": "stdout",
          "output_type": "stream",
          "text": [
            "1 1\n",
            "1 2\n",
            "2 1\n",
            "2 2\n",
            "3 1\n",
            "3 2\n"
          ]
        }
      ],
      "source": [
        "rows = range(1,4)\n",
        "cols = range(1,3)\n",
        "for row in rows:\n",
        "    for col in cols:\n",
        "        print(row,col)"
      ]
    },
    {
      "cell_type": "code",
      "execution_count": null,
      "id": "b674325a-f265-49fe-bf5b-797099ada228",
      "metadata": {
        "id": "b674325a-f265-49fe-bf5b-797099ada228",
        "outputId": "dc4aa607-0233-4b52-f2a3-229af9c954ca"
      },
      "outputs": [
        {
          "name": "stdout",
          "output_type": "stream",
          "text": [
            "(1, 1)\n",
            "(1, 2)\n",
            "(2, 1)\n",
            "(2, 2)\n",
            "(3, 1)\n",
            "(3, 2)\n"
          ]
        }
      ],
      "source": [
        "rows = range(1,4)\n",
        "cols = range(1,3)\n",
        "cells = [(row, col) for row in rows for col in cols]\n",
        "for cell in cells :\n",
        "    print(cell)"
      ]
    },
    {
      "cell_type": "code",
      "execution_count": null,
      "id": "8f82482d-b7f7-4bff-85bb-e9d0175d58ef",
      "metadata": {
        "id": "8f82482d-b7f7-4bff-85bb-e9d0175d58ef",
        "outputId": "508995d1-403a-4cf2-88f2-d39ca4759f61"
      },
      "outputs": [
        {
          "data": {
            "text/plain": [
              "[(1, 0),\n",
              " (2, 0),\n",
              " (2, 1),\n",
              " (3, 0),\n",
              " (3, 1),\n",
              " (3, 2),\n",
              " (4, 0),\n",
              " (4, 1),\n",
              " (4, 2),\n",
              " (4, 3)]"
            ]
          },
          "execution_count": 64,
          "metadata": {},
          "output_type": "execute_result"
        }
      ],
      "source": [
        "[(i,j) for i in range(5) for j in range(i)]"
      ]
    },
    {
      "cell_type": "code",
      "execution_count": null,
      "id": "98841f8a-33f5-4dd9-a264-2dfb3af05d30",
      "metadata": {
        "id": "98841f8a-33f5-4dd9-a264-2dfb3af05d30"
      },
      "outputs": [],
      "source": [
        "word = 'letters'"
      ]
    },
    {
      "cell_type": "code",
      "execution_count": null,
      "id": "c3981ee2-a506-4b75-9ecd-1f6887d915f5",
      "metadata": {
        "id": "c3981ee2-a506-4b75-9ecd-1f6887d915f5",
        "outputId": "74693887-fc4f-49fa-bc19-859e56800131"
      },
      "outputs": [
        {
          "data": {
            "text/plain": [
              "str"
            ]
          },
          "execution_count": 73,
          "metadata": {},
          "output_type": "execute_result"
        }
      ],
      "source": [
        "type(word)"
      ]
    },
    {
      "cell_type": "code",
      "execution_count": null,
      "id": "76e940f3-6107-47f4-ba12-3922c9f920a2",
      "metadata": {
        "id": "76e940f3-6107-47f4-ba12-3922c9f920a2",
        "outputId": "d446acdd-b703-481a-9836-c7397aad92eb"
      },
      "outputs": [
        {
          "name": "stdout",
          "output_type": "stream",
          "text": [
            "l\n",
            "e\n",
            "t\n",
            "t\n",
            "e\n",
            "r\n",
            "s\n"
          ]
        }
      ],
      "source": [
        "for letter in word:\n",
        "    print(letter)"
      ]
    },
    {
      "cell_type": "code",
      "execution_count": null,
      "id": "50bf26fb-60bf-4e94-b7c2-66cf7bc6b65d",
      "metadata": {
        "id": "50bf26fb-60bf-4e94-b7c2-66cf7bc6b65d"
      },
      "outputs": [],
      "source": [
        "letter_counts = {letter: word.count(letter) for letter in word}"
      ]
    },
    {
      "cell_type": "code",
      "execution_count": null,
      "id": "2d79897a-edec-415d-bc25-09eda80ca348",
      "metadata": {
        "id": "2d79897a-edec-415d-bc25-09eda80ca348",
        "outputId": "c24ca0a5-a37d-47a5-f139-f904ed7bfdc5"
      },
      "outputs": [
        {
          "data": {
            "text/plain": [
              "{'l': 1, 'e': 2, 't': 2, 'r': 1, 's': 1}"
            ]
          },
          "execution_count": 75,
          "metadata": {},
          "output_type": "execute_result"
        }
      ],
      "source": [
        "letter_counts"
      ]
    },
    {
      "cell_type": "code",
      "execution_count": null,
      "id": "53c77602-3863-499e-8b0a-15c23be95635",
      "metadata": {
        "id": "53c77602-3863-499e-8b0a-15c23be95635"
      },
      "outputs": [],
      "source": [
        "word='letters'\n",
        "letter_counts2={letter:word.count(letter) for letter in set(word)}"
      ]
    },
    {
      "cell_type": "code",
      "execution_count": null,
      "id": "3d3058ac-0811-4c67-91f5-eb41531a4991",
      "metadata": {
        "id": "3d3058ac-0811-4c67-91f5-eb41531a4991",
        "outputId": "a441c875-b2ac-4724-bc7b-353ab160ef1b"
      },
      "outputs": [
        {
          "data": {
            "text/plain": [
              "{'r': 1, 'l': 1, 't': 2, 's': 1, 'e': 2}"
            ]
          },
          "execution_count": 84,
          "metadata": {},
          "output_type": "execute_result"
        }
      ],
      "source": [
        "letter_counts2"
      ]
    },
    {
      "cell_type": "code",
      "execution_count": null,
      "id": "ae56e9c3-898b-43cf-bfed-4f9efa112a55",
      "metadata": {
        "id": "ae56e9c3-898b-43cf-bfed-4f9efa112a55"
      },
      "outputs": [],
      "source": [
        "a_set={number for number in range(1,6) if number%3 == 1}"
      ]
    },
    {
      "cell_type": "code",
      "execution_count": null,
      "id": "ee823d35-dab7-49ba-8156-fcabfa05b866",
      "metadata": {
        "id": "ee823d35-dab7-49ba-8156-fcabfa05b866",
        "outputId": "f8eb1198-eae8-4726-ebab-a46a2aaf9fc9"
      },
      "outputs": [
        {
          "data": {
            "text/plain": [
              "{1, 4}"
            ]
          },
          "execution_count": 89,
          "metadata": {},
          "output_type": "execute_result"
        }
      ],
      "source": [
        "a_set"
      ]
    },
    {
      "cell_type": "code",
      "execution_count": null,
      "id": "3dd0b0b2-f343-4e6e-bbfd-b4452700a465",
      "metadata": {
        "id": "3dd0b0b2-f343-4e6e-bbfd-b4452700a465"
      },
      "outputs": [],
      "source": [
        "def sum(a,b):\n",
        "    return a+b"
      ]
    },
    {
      "cell_type": "code",
      "execution_count": 2,
      "id": "7d59cea0-b143-47c7-8605-0238db2156aa",
      "metadata": {
        "id": "7d59cea0-b143-47c7-8605-0238db2156aa",
        "outputId": "d43292e2-f3e1-4448-a62c-ddfcdd53fde3",
        "colab": {
          "base_uri": "https://localhost:8080/",
          "height": 184
        }
      },
      "outputs": [
        {
          "output_type": "error",
          "ename": "TypeError",
          "evalue": "ignored",
          "traceback": [
            "\u001b[0;31m---------------------------------------------------------------------------\u001b[0m",
            "\u001b[0;31mTypeError\u001b[0m                                 Traceback (most recent call last)",
            "\u001b[0;32m<ipython-input-2-67d1519cc1ff>\u001b[0m in \u001b[0;36m<cell line: 1>\u001b[0;34m()\u001b[0m\n\u001b[0;32m----> 1\u001b[0;31m \u001b[0msum\u001b[0m\u001b[0;34m(\u001b[0m\u001b[0;36m1\u001b[0m\u001b[0;34m,\u001b[0m \u001b[0;36m2\u001b[0m\u001b[0;34m)\u001b[0m\u001b[0;34m\u001b[0m\u001b[0;34m\u001b[0m\u001b[0m\n\u001b[0m",
            "\u001b[0;31mTypeError\u001b[0m: 'int' object is not iterable"
          ]
        }
      ],
      "source": [
        "sum(1, 2)"
      ]
    },
    {
      "cell_type": "code",
      "execution_count": null,
      "id": "0d137de1-0193-44e8-b35b-8b6c43ce3a23",
      "metadata": {
        "id": "0d137de1-0193-44e8-b35b-8b6c43ce3a23",
        "outputId": "f1e2ace0-c168-4268-db98-203679989911"
      },
      "outputs": [
        {
          "data": {
            "text/plain": [
              "4.4"
            ]
          },
          "execution_count": 93,
          "metadata": {},
          "output_type": "execute_result"
        }
      ],
      "source": [
        "sum(1.3, 3.1)"
      ]
    },
    {
      "cell_type": "code",
      "execution_count": null,
      "id": "2edb5cd7-7852-465f-bda9-56e6e7abe719",
      "metadata": {
        "id": "2edb5cd7-7852-465f-bda9-56e6e7abe719",
        "outputId": "9bb30638-5a3f-4450-e258-e19901c85bb1"
      },
      "outputs": [
        {
          "data": {
            "text/plain": [
              "'love python'"
            ]
          },
          "execution_count": 95,
          "metadata": {},
          "output_type": "execute_result"
        }
      ],
      "source": [
        "sum('love', ' python')"
      ]
    },
    {
      "cell_type": "code",
      "execution_count": null,
      "id": "08ce63cb-7202-4553-a0fc-56ca02383da5",
      "metadata": {
        "id": "08ce63cb-7202-4553-a0fc-56ca02383da5"
      },
      "outputs": [],
      "source": [
        "days=['monday', 'tuesday', 'wednesday']\n",
        "fruits=['banana', 'orange', 'peach']\n",
        "drinks=['coffee', 'tea', 'beer']\n",
        "desserts=['tiramisu', 'ice cream', 'pie', 'pudding']"
      ]
    },
    {
      "cell_type": "code",
      "execution_count": null,
      "id": "8218037b-dd64-4475-bbb8-861aa8a527ef",
      "metadata": {
        "id": "8218037b-dd64-4475-bbb8-861aa8a527ef",
        "outputId": "84aa3887-7e2b-495b-9c04-772f4eb0f3ac"
      },
      "outputs": [
        {
          "name": "stdout",
          "output_type": "stream",
          "text": [
            "monday :drink coffee - eat banana - enjoy tiramisu\n",
            "tuesday :drink tea - eat orange - enjoy ice cream\n",
            "wednesday :drink beer - eat peach - enjoy pie\n"
          ]
        }
      ],
      "source": [
        "for day, fruits, drink, desserts in zip(days, fruits, drinks, desserts):\n",
        "    print(day, \":drink\", drink, \"- eat\", fruits, \"- enjoy\", desserts)"
      ]
    },
    {
      "cell_type": "code",
      "execution_count": null,
      "id": "88cf0b25-9aad-4858-8b6a-4aad975d8dcc",
      "metadata": {
        "id": "88cf0b25-9aad-4858-8b6a-4aad975d8dcc"
      },
      "outputs": [],
      "source": [
        "english = 'monday', 'tuesday', 'wednesday'\n",
        "french = 'lundi', 'mardi', 'mercredi'"
      ]
    },
    {
      "cell_type": "code",
      "execution_count": null,
      "id": "1ea93f6e-6e0e-46a3-897d-de0e98f85c9f",
      "metadata": {
        "id": "1ea93f6e-6e0e-46a3-897d-de0e98f85c9f",
        "outputId": "0755c225-829e-496f-eca5-2cf83b158301"
      },
      "outputs": [
        {
          "data": {
            "text/plain": [
              "[('monday', 'lundi'), ('tuesday', 'mardi'), ('wednesday', 'mercredi')]"
            ]
          },
          "execution_count": 107,
          "metadata": {},
          "output_type": "execute_result"
        }
      ],
      "source": [
        "list(zip(english, french))"
      ]
    },
    {
      "cell_type": "code",
      "execution_count": null,
      "id": "63d17088-805c-4275-8cfa-1cf8ab78d320",
      "metadata": {
        "id": "63d17088-805c-4275-8cfa-1cf8ab78d320",
        "outputId": "331bdcba-0507-499e-9beb-be412f5289ad"
      },
      "outputs": [
        {
          "data": {
            "text/plain": [
              "{'monday': 'lundi', 'tuesday': 'mardi', 'wednesday': 'mercredi'}"
            ]
          },
          "execution_count": 109,
          "metadata": {},
          "output_type": "execute_result"
        }
      ],
      "source": [
        "dict(zip(english,french))"
      ]
    },
    {
      "cell_type": "code",
      "execution_count": null,
      "id": "b278765a-7ebb-43f4-8791-564d7f5b5ec1",
      "metadata": {
        "id": "b278765a-7ebb-43f4-8791-564d7f5b5ec1"
      },
      "outputs": [],
      "source": [
        "def menu(wine,entree,dessert):\n",
        "    return{'wine':wine,'entree':entree,'dessert':dessert}"
      ]
    },
    {
      "cell_type": "code",
      "execution_count": null,
      "id": "b6453e0c-735f-4eda-b86a-6d5c4d1db023",
      "metadata": {
        "id": "b6453e0c-735f-4eda-b86a-6d5c4d1db023",
        "outputId": "02651bb5-0f24-449d-b42d-bbaffdda12ae"
      },
      "outputs": [
        {
          "data": {
            "text/plain": [
              "{'wine': 'chardonnay', 'entree': 'chicken', 'dessert': 'cake'}"
            ]
          },
          "execution_count": 122,
          "metadata": {},
          "output_type": "execute_result"
        }
      ],
      "source": [
        "menu('chardonnay', 'chicken', 'cake')"
      ]
    },
    {
      "cell_type": "code",
      "execution_count": null,
      "id": "b404003d-b190-40c7-a2b1-124be74ed00b",
      "metadata": {
        "id": "b404003d-b190-40c7-a2b1-124be74ed00b",
        "outputId": "9c503751-4291-4328-a0dd-6ebc27292dc5"
      },
      "outputs": [
        {
          "data": {
            "text/plain": [
              "{'wine': 'bordeaux', 'entree': 'beef', 'dessert': 'bagel'}"
            ]
          },
          "execution_count": 117,
          "metadata": {},
          "output_type": "execute_result"
        }
      ],
      "source": [
        "menu(entree='beef', dessert='bagel', wine='bordeaux')"
      ]
    },
    {
      "cell_type": "code",
      "execution_count": null,
      "id": "96144b63-d870-4802-bc22-d3411e78186a",
      "metadata": {
        "id": "96144b63-d870-4802-bc22-d3411e78186a",
        "outputId": "fcf5bc4a-a0ec-4e2f-99c5-b39dd7f109bc"
      },
      "outputs": [
        {
          "data": {
            "text/plain": [
              "{'wine': 'frontenac', 'entree': 'fish', 'dessert': 'flan'}"
            ]
          },
          "execution_count": 118,
          "metadata": {},
          "output_type": "execute_result"
        }
      ],
      "source": [
        "menu('frontenac', dessert='flan', entree='fish')"
      ]
    },
    {
      "cell_type": "code",
      "execution_count": null,
      "id": "ba9e3520-299f-4e87-bfb9-075eb11f06d7",
      "metadata": {
        "id": "ba9e3520-299f-4e87-bfb9-075eb11f06d7",
        "outputId": "15e3dcf2-aca3-444a-9cf0-7a7d2b6c67cc"
      },
      "outputs": [
        {
          "data": {
            "text/plain": [
              "{'wine': 'chardonnay', 'entree': 'chicken', 'dessert': 'pudding'}"
            ]
          },
          "execution_count": 120,
          "metadata": {},
          "output_type": "execute_result"
        }
      ],
      "source": [
        "menu('chardonnay', 'chicken', 'pudding')"
      ]
    },
    {
      "cell_type": "code",
      "execution_count": null,
      "id": "4b509be9-25b2-493f-a8dd-6fe9c15c4456",
      "metadata": {
        "id": "4b509be9-25b2-493f-a8dd-6fe9c15c4456",
        "outputId": "f921ce0f-6a7c-46f0-dc27-9d08a6927ea3"
      },
      "outputs": [
        {
          "data": {
            "text/plain": [
              "{'wine': 'dunkelfelder', 'entree': 'duck', 'dessert': 'doughnut'}"
            ]
          },
          "execution_count": 121,
          "metadata": {},
          "output_type": "execute_result"
        }
      ],
      "source": [
        "menu('dunkelfelder', 'duck', 'doughnut')"
      ]
    },
    {
      "cell_type": "code",
      "execution_count": null,
      "id": "6e994248-8be0-4a66-9dc1-f250f1d477bc",
      "metadata": {
        "id": "6e994248-8be0-4a66-9dc1-f250f1d477bc"
      },
      "outputs": [],
      "source": [
        "def menu2(price, wine='chardonnay', entree='chichken', dessert='pudding'):\n",
        "    return{'price':price, 'wine':wine, 'entree':entree, 'dessert':dessert}"
      ]
    },
    {
      "cell_type": "code",
      "execution_count": null,
      "id": "9203fd8a-de49-4978-aef6-1e22ac872937",
      "metadata": {
        "id": "9203fd8a-de49-4978-aef6-1e22ac872937",
        "outputId": "97fb111c-94ad-44dd-8b1d-94b5fc28cb62"
      },
      "outputs": [
        {
          "data": {
            "text/plain": [
              "{'price': 100,\n",
              " 'wine': 'chardonnay',\n",
              " 'entree': 'chichken',\n",
              " 'dessert': 'pudding'}"
            ]
          },
          "execution_count": 124,
          "metadata": {},
          "output_type": "execute_result"
        }
      ],
      "source": [
        "menu2(100)"
      ]
    },
    {
      "cell_type": "code",
      "execution_count": null,
      "id": "219544b9-90b5-4b62-89b1-2f86d366177e",
      "metadata": {
        "id": "219544b9-90b5-4b62-89b1-2f86d366177e",
        "outputId": "d96c341a-1088-43cd-cc58-f64022653ab3"
      },
      "outputs": [
        {
          "data": {
            "text/plain": [
              "{'price': 100,\n",
              " 'wine': 'chardonnay',\n",
              " 'entree': 'chichken',\n",
              " 'dessert': 'pudding'}"
            ]
          },
          "execution_count": 126,
          "metadata": {},
          "output_type": "execute_result"
        }
      ],
      "source": [
        "menu2(price=100)"
      ]
    },
    {
      "cell_type": "code",
      "execution_count": null,
      "id": "f5337fb1-4874-44da-ba65-77fbb7e32547",
      "metadata": {
        "id": "f5337fb1-4874-44da-ba65-77fbb7e32547",
        "outputId": "3ae90434-22d8-4f01-860f-df89d62abf06"
      },
      "outputs": [
        {
          "data": {
            "text/plain": [
              "{'price': 120, 'wine': 'chardonnay', 'entree': 'beef', 'dessert': 'pudding'}"
            ]
          },
          "execution_count": 127,
          "metadata": {},
          "output_type": "execute_result"
        }
      ],
      "source": [
        "menu2(price=120, entree='beef')"
      ]
    },
    {
      "cell_type": "code",
      "execution_count": null,
      "id": "9fec0b3e-2fab-475a-a393-8f82e668e379",
      "metadata": {
        "id": "9fec0b3e-2fab-475a-a393-8f82e668e379",
        "outputId": "71e62871-54e7-4e73-c6c4-f8af97e9c2b3"
      },
      "outputs": [
        {
          "data": {
            "text/plain": [
              "{'price': 110, 'wine': 'chardonnay', 'entree': 'chichken', 'dessert': 'bagel'}"
            ]
          },
          "execution_count": 128,
          "metadata": {},
          "output_type": "execute_result"
        }
      ],
      "source": [
        "menu2(dessert='bagel', price=110)"
      ]
    },
    {
      "cell_type": "code",
      "execution_count": null,
      "id": "d078b2d5-14aa-41e2-885f-c9300e49a80c",
      "metadata": {
        "id": "d078b2d5-14aa-41e2-885f-c9300e49a80c",
        "outputId": "30dc8f1f-66a6-437a-9954-48648f808077"
      },
      "outputs": [
        {
          "data": {
            "text/plain": [
              "{'price': 'eighty',\n",
              " 'wine': 'saint-pierre',\n",
              " 'entree': 'fish',\n",
              " 'dessert': 'pudding'}"
            ]
          },
          "execution_count": 130,
          "metadata": {},
          "output_type": "execute_result"
        }
      ],
      "source": [
        "menu2('eighty','saint-pierre', 'fish')"
      ]
    },
    {
      "cell_type": "code",
      "execution_count": null,
      "id": "407d0d31-2b41-4121-9e67-53c7a7255f9d",
      "metadata": {
        "id": "407d0d31-2b41-4121-9e67-53c7a7255f9d",
        "outputId": "36a7cf78-f15f-4788-bd28-fccda54d7d0e"
      },
      "outputs": [
        {
          "data": {
            "text/plain": [
              "{'price': 'hundred',\n",
              " 'wine': 'saint-pierre',\n",
              " 'entree': 'chichken',\n",
              " 'dessert': 'pudding'}"
            ]
          },
          "execution_count": 131,
          "metadata": {},
          "output_type": "execute_result"
        }
      ],
      "source": [
        "menu2('hundred', wine='saint-pierre')"
      ]
    },
    {
      "cell_type": "code",
      "execution_count": null,
      "id": "b6aa611b-c77d-4326-9d7d-ae01e1a5692b",
      "metadata": {
        "id": "b6aa611b-c77d-4326-9d7d-ae01e1a5692b",
        "outputId": "4478dde2-e86c-4e74-d265-658ca43cfc06"
      },
      "outputs": [
        {
          "ename": "TypeError",
          "evalue": "menu() missing 3 required positional arguments: 'wine', 'entree', and 'dessert'",
          "output_type": "error",
          "traceback": [
            "\u001b[0;31m---------------------------------------------------------------------------\u001b[0m",
            "\u001b[0;31mTypeError\u001b[0m                                 Traceback (most recent call last)",
            "Cell \u001b[0;32mIn[132], line 1\u001b[0m\n\u001b[0;32m----> 1\u001b[0m \u001b[43mmenu\u001b[49m\u001b[43m(\u001b[49m\u001b[43m)\u001b[49m\n",
            "\u001b[0;31mTypeError\u001b[0m: menu() missing 3 required positional arguments: 'wine', 'entree', and 'dessert'"
          ]
        }
      ],
      "source": [
        "menu()"
      ]
    },
    {
      "cell_type": "code",
      "execution_count": null,
      "id": "c7877ca0-1f23-4fd7-bf07-012febac0384",
      "metadata": {
        "id": "c7877ca0-1f23-4fd7-bf07-012febac0384",
        "outputId": "0d68d456-cd42-4a0d-9a1d-a46af445abb3"
      },
      "outputs": [
        {
          "ename": "SyntaxError",
          "evalue": "positional argument follows keyword argument (2276001416.py, line 1)",
          "output_type": "error",
          "traceback": [
            "\u001b[0;36m  Cell \u001b[0;32mIn[133], line 1\u001b[0;36m\u001b[0m\n\u001b[0;31m    menu(price=100, 'saint-pierre')\u001b[0m\n\u001b[0m                                  ^\u001b[0m\n\u001b[0;31mSyntaxError\u001b[0m\u001b[0;31m:\u001b[0m positional argument follows keyword argument\n"
          ]
        }
      ],
      "source": [
        "menu(price=100, 'saint-pierre')"
      ]
    },
    {
      "cell_type": "code",
      "execution_count": null,
      "id": "8d2c23de-d627-48ef-9c75-a0f99b9666d4",
      "metadata": {
        "id": "8d2c23de-d627-48ef-9c75-a0f99b9666d4",
        "outputId": "f180d92c-4af0-4d87-d109-7883bc51cb0f"
      },
      "outputs": [
        {
          "ename": "TypeError",
          "evalue": "menu() got an unexpected keyword argument 'price'",
          "output_type": "error",
          "traceback": [
            "\u001b[0;31m---------------------------------------------------------------------------\u001b[0m",
            "\u001b[0;31mTypeError\u001b[0m                                 Traceback (most recent call last)",
            "Cell \u001b[0;32mIn[135], line 1\u001b[0m\n\u001b[0;32m----> 1\u001b[0m \u001b[43mmenu\u001b[49m\u001b[43m(\u001b[49m\u001b[38;5;241;43m100\u001b[39;49m\u001b[43m,\u001b[49m\u001b[43m \u001b[49m\u001b[43mprice\u001b[49m\u001b[38;5;241;43m=\u001b[39;49m\u001b[38;5;241;43m120\u001b[39;49m\u001b[43m)\u001b[49m\n",
            "\u001b[0;31mTypeError\u001b[0m: menu() got an unexpected keyword argument 'price'"
          ]
        }
      ],
      "source": [
        "menu(100, price=120)"
      ]
    },
    {
      "cell_type": "code",
      "execution_count": null,
      "id": "1404c23b-b55e-4c0a-84bd-1cc91fdc1f1a",
      "metadata": {
        "id": "1404c23b-b55e-4c0a-84bd-1cc91fdc1f1a",
        "outputId": "bf12967f-13b8-4599-a903-b0fc22cfb314"
      },
      "outputs": [
        {
          "ename": "TypeError",
          "evalue": "menu() got an unexpected keyword argument 'main'",
          "output_type": "error",
          "traceback": [
            "\u001b[0;31m---------------------------------------------------------------------------\u001b[0m",
            "\u001b[0;31mTypeError\u001b[0m                                 Traceback (most recent call last)",
            "Cell \u001b[0;32mIn[136], line 1\u001b[0m\n\u001b[0;32m----> 1\u001b[0m \u001b[43mmenu\u001b[49m\u001b[43m(\u001b[49m\u001b[43mmain\u001b[49m\u001b[43m \u001b[49m\u001b[38;5;241;43m=\u001b[39;49m\u001b[43m \u001b[49m\u001b[38;5;124;43m'\u001b[39;49m\u001b[38;5;124;43mcream pasta\u001b[39;49m\u001b[38;5;124;43m'\u001b[39;49m\u001b[43m)\u001b[49m\n",
            "\u001b[0;31mTypeError\u001b[0m: menu() got an unexpected keyword argument 'main'"
          ]
        }
      ],
      "source": [
        "menu(main = 'cream pasta')"
      ]
    },
    {
      "cell_type": "code",
      "execution_count": null,
      "id": "b81687ad-3439-4bd7-88e1-c85aa0c74a39",
      "metadata": {
        "id": "b81687ad-3439-4bd7-88e1-c85aa0c74a39"
      },
      "outputs": [],
      "source": [
        "def echo(anything):\n",
        "    'echo retunrs its input argument'\n",
        "    return anything"
      ]
    },
    {
      "cell_type": "code",
      "execution_count": null,
      "id": "cf7b3dc8-e2bf-4b41-ac0f-70061f07180d",
      "metadata": {
        "id": "cf7b3dc8-e2bf-4b41-ac0f-70061f07180d"
      },
      "outputs": [],
      "source": [
        "def print_if_true(thing, check):\n",
        "    \"\"\"\n",
        "    Prints the first argument if a second argument is true.\n",
        "    The operation is:\n",
        "    1. check whether the *second* argument is true.\n",
        "    2. If it is, print the *first* argument\n",
        "    \"\"\"\n",
        "    if check:\n",
        "        print(thing)\n"
      ]
    },
    {
      "cell_type": "code",
      "execution_count": null,
      "id": "5a207cf9-49fd-4e48-819f-e050d5f9b65b",
      "metadata": {
        "id": "5a207cf9-49fd-4e48-819f-e050d5f9b65b",
        "outputId": "608a05d1-f844-4311-e5c5-33bbf8b4ebc0"
      },
      "outputs": [
        {
          "name": "stdout",
          "output_type": "stream",
          "text": [
            "Help on function echo in module __main__:\n",
            "\n",
            "echo(anything)\n",
            "    echo retunrs its input argument\n",
            "\n"
          ]
        }
      ],
      "source": [
        "help(echo)"
      ]
    },
    {
      "cell_type": "code",
      "execution_count": null,
      "id": "f9d845ee-5914-4c66-8e36-2bd0bed7813e",
      "metadata": {
        "id": "f9d845ee-5914-4c66-8e36-2bd0bed7813e",
        "outputId": "d6aec431-529d-490f-c76c-bb54360c56dd"
      },
      "outputs": [
        {
          "name": "stdout",
          "output_type": "stream",
          "text": [
            "Help on function print_if_true in module __main__:\n",
            "\n",
            "print_if_true(thing, check)\n",
            "    Prints the first argument if a second argument is true.\n",
            "    The operation is:\n",
            "    1. check whether the *second* argument is true.\n",
            "    2. If it is, print the *first* argument\n",
            "\n"
          ]
        }
      ],
      "source": [
        "help(print_if_true)"
      ]
    },
    {
      "cell_type": "code",
      "execution_count": null,
      "id": "1d37fc5d-64f9-43ce-808f-d353d141c762",
      "metadata": {
        "id": "1d37fc5d-64f9-43ce-808f-d353d141c762"
      },
      "outputs": [],
      "source": []
    }
  ],
  "metadata": {
    "kernelspec": {
      "display_name": "Python 3 (ipykernel)",
      "language": "python",
      "name": "python3"
    },
    "language_info": {
      "codemirror_mode": {
        "name": "ipython",
        "version": 3
      },
      "file_extension": ".py",
      "mimetype": "text/x-python",
      "name": "python",
      "nbconvert_exporter": "python",
      "pygments_lexer": "ipython3",
      "version": "3.11.5"
    },
    "colab": {
      "provenance": [],
      "include_colab_link": true
    }
  },
  "nbformat": 4,
  "nbformat_minor": 5
}