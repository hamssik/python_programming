{
  "cells": [
    {
      "cell_type": "markdown",
      "metadata": {
        "id": "view-in-github",
        "colab_type": "text"
      },
      "source": [
        "<a href=\"https://colab.research.google.com/github/hamssik/python_programming/blob/main/11%E1%84%8C%E1%85%AE%E1%84%8E%E1%85%A1_%EA%B3%BC%EC%A0%9C.ipynb\" target=\"_parent\"><img src=\"https://colab.research.google.com/assets/colab-badge.svg\" alt=\"Open In Colab\"/></a>"
      ]
    },
    {
      "cell_type": "code",
      "execution_count": null,
      "id": "7caf0006-2143-4b9b-b078-5674c481462e",
      "metadata": {
        "id": "7caf0006-2143-4b9b-b078-5674c481462e"
      },
      "outputs": [],
      "source": [
        "import numpy as np"
      ]
    },
    {
      "cell_type": "code",
      "execution_count": null,
      "id": "6cee5508-4f8b-424c-8b1a-8872d34c4b29",
      "metadata": {
        "id": "6cee5508-4f8b-424c-8b1a-8872d34c4b29"
      },
      "outputs": [],
      "source": [
        "a = np.arange(6)"
      ]
    },
    {
      "cell_type": "code",
      "execution_count": null,
      "id": "153f4d18-66ac-48f1-99f7-7cfd4fd43c9f",
      "metadata": {
        "id": "153f4d18-66ac-48f1-99f7-7cfd4fd43c9f",
        "outputId": "1e16bc1e-819d-4140-e704-e3f725843e89"
      },
      "outputs": [
        {
          "data": {
            "text/plain": [
              "numpy.ndarray"
            ]
          },
          "execution_count": 3,
          "metadata": {},
          "output_type": "execute_result"
        }
      ],
      "source": [
        "type(a)"
      ]
    },
    {
      "cell_type": "code",
      "execution_count": null,
      "id": "180a0a79-36b5-48a0-bac7-4599f511dbc9",
      "metadata": {
        "id": "180a0a79-36b5-48a0-bac7-4599f511dbc9",
        "outputId": "25f433b0-317a-4ebe-bab8-5cd0d5d45acd"
      },
      "outputs": [
        {
          "data": {
            "text/plain": [
              "array([0, 1, 2, 3, 4, 5])"
            ]
          },
          "execution_count": 4,
          "metadata": {},
          "output_type": "execute_result"
        }
      ],
      "source": [
        "a"
      ]
    },
    {
      "cell_type": "code",
      "execution_count": null,
      "id": "5bf18d9d-0015-42e8-a6ff-59aa1b0baa0f",
      "metadata": {
        "id": "5bf18d9d-0015-42e8-a6ff-59aa1b0baa0f",
        "outputId": "59ae146b-cdfe-4168-9c21-5a31fea2148e"
      },
      "outputs": [
        {
          "data": {
            "text/plain": [
              "0"
            ]
          },
          "execution_count": 5,
          "metadata": {},
          "output_type": "execute_result"
        }
      ],
      "source": [
        "a[0]"
      ]
    },
    {
      "cell_type": "code",
      "execution_count": null,
      "id": "7768effa-78bb-4854-a44f-153dccab6d3d",
      "metadata": {
        "id": "7768effa-78bb-4854-a44f-153dccab6d3d",
        "outputId": "c5f8c419-3e29-4125-9263-ba41a67d3946"
      },
      "outputs": [
        {
          "data": {
            "text/plain": [
              "1"
            ]
          },
          "execution_count": 6,
          "metadata": {},
          "output_type": "execute_result"
        }
      ],
      "source": [
        "a[1]"
      ]
    },
    {
      "cell_type": "code",
      "execution_count": null,
      "id": "e2cdd289-3357-4ce5-9973-498d3a55bfb5",
      "metadata": {
        "id": "e2cdd289-3357-4ce5-9973-498d3a55bfb5",
        "outputId": "21115969-d35b-4a6e-cd54-a3e660f2d333"
      },
      "outputs": [
        {
          "data": {
            "text/plain": [
              "array([0, 1, 2, 3, 4, 5])"
            ]
          },
          "execution_count": 7,
          "metadata": {},
          "output_type": "execute_result"
        }
      ],
      "source": [
        "a[:]"
      ]
    },
    {
      "cell_type": "code",
      "execution_count": null,
      "id": "84c0708d-608e-4872-8b89-b131349a7cc1",
      "metadata": {
        "id": "84c0708d-608e-4872-8b89-b131349a7cc1"
      },
      "outputs": [],
      "source": [
        "a2 = a[np.newaxis, :]"
      ]
    },
    {
      "cell_type": "code",
      "execution_count": null,
      "id": "515e99c5-3e29-45bf-b329-c5c8bce230bf",
      "metadata": {
        "id": "515e99c5-3e29-45bf-b329-c5c8bce230bf",
        "outputId": "d39806fe-ed26-4c26-cd31-76b2bcf51ad6"
      },
      "outputs": [
        {
          "data": {
            "text/plain": [
              "(6,)"
            ]
          },
          "execution_count": 12,
          "metadata": {},
          "output_type": "execute_result"
        }
      ],
      "source": [
        "a.shape"
      ]
    },
    {
      "cell_type": "code",
      "execution_count": null,
      "id": "44af6201-bcc0-4de6-be93-a301109e3dee",
      "metadata": {
        "id": "44af6201-bcc0-4de6-be93-a301109e3dee",
        "outputId": "58e0c106-58dd-48eb-d2d0-d532564ee338"
      },
      "outputs": [
        {
          "data": {
            "text/plain": [
              "(1, 6)"
            ]
          },
          "execution_count": 14,
          "metadata": {},
          "output_type": "execute_result"
        }
      ],
      "source": [
        "a2.shape"
      ]
    },
    {
      "cell_type": "code",
      "execution_count": null,
      "id": "8bdd5351-39d1-45de-b734-dc6bd2517ad8",
      "metadata": {
        "id": "8bdd5351-39d1-45de-b734-dc6bd2517ad8"
      },
      "outputs": [],
      "source": [
        "a = np.array([[1, 2, 3, 4], [5, 6, 7, 8], [9, 10, 11, 12]])"
      ]
    },
    {
      "cell_type": "code",
      "execution_count": null,
      "id": "88d1a7bc-f932-4d7c-a289-e8e9783b5d2f",
      "metadata": {
        "id": "88d1a7bc-f932-4d7c-a289-e8e9783b5d2f",
        "outputId": "3898baed-5430-44a9-f2ed-8e4f86e437f6"
      },
      "outputs": [
        {
          "data": {
            "text/plain": [
              "array([[ 1,  2,  3,  4],\n",
              "       [ 5,  6,  7,  8],\n",
              "       [ 9, 10, 11, 12]])"
            ]
          },
          "execution_count": 16,
          "metadata": {},
          "output_type": "execute_result"
        }
      ],
      "source": [
        "a"
      ]
    },
    {
      "cell_type": "code",
      "execution_count": null,
      "id": "81812497-ff5a-465b-ba2d-31a600306cc1",
      "metadata": {
        "id": "81812497-ff5a-465b-ba2d-31a600306cc1",
        "outputId": "f4486e22-edb7-4a9b-e453-6db342d0720c"
      },
      "outputs": [
        {
          "data": {
            "text/plain": [
              "2"
            ]
          },
          "execution_count": 17,
          "metadata": {},
          "output_type": "execute_result"
        }
      ],
      "source": [
        "a[0, 1]"
      ]
    },
    {
      "cell_type": "code",
      "execution_count": null,
      "id": "6a7cb6e7-0823-49be-8080-af72f5f9ceaf",
      "metadata": {
        "id": "6a7cb6e7-0823-49be-8080-af72f5f9ceaf",
        "outputId": "f2358dbc-b215-4047-8dc4-3e515b9352ee"
      },
      "outputs": [
        {
          "data": {
            "text/plain": [
              "array([1, 2, 3, 4])"
            ]
          },
          "execution_count": 18,
          "metadata": {},
          "output_type": "execute_result"
        }
      ],
      "source": [
        "a[0]"
      ]
    },
    {
      "cell_type": "code",
      "execution_count": null,
      "id": "dec9b922-7f80-4629-8c79-87ec0afa739f",
      "metadata": {
        "id": "dec9b922-7f80-4629-8c79-87ec0afa739f"
      },
      "outputs": [],
      "source": [
        "import numpy as np"
      ]
    },
    {
      "cell_type": "code",
      "execution_count": null,
      "id": "e4b3af77-0147-4ba9-b8e6-88f97aac5517",
      "metadata": {
        "id": "e4b3af77-0147-4ba9-b8e6-88f97aac5517"
      },
      "outputs": [],
      "source": [
        "a = np.array([1, 2, 3])"
      ]
    },
    {
      "cell_type": "code",
      "execution_count": null,
      "id": "a3958b0d-82eb-46ab-b39d-650734409872",
      "metadata": {
        "id": "a3958b0d-82eb-46ab-b39d-650734409872",
        "outputId": "299dafe1-c214-4a86-d81a-687719025c1e"
      },
      "outputs": [
        {
          "data": {
            "text/plain": [
              "array([0., 0., 0., 0., 0.])"
            ]
          },
          "execution_count": 22,
          "metadata": {},
          "output_type": "execute_result"
        }
      ],
      "source": [
        "np.zeros(5)"
      ]
    },
    {
      "cell_type": "code",
      "execution_count": null,
      "id": "11e6f07d-af30-4e0f-a189-ca945717baef",
      "metadata": {
        "id": "11e6f07d-af30-4e0f-a189-ca945717baef",
        "outputId": "72a92dec-4001-4f3a-eb25-9bd4a3b7cdb7"
      },
      "outputs": [
        {
          "data": {
            "text/plain": [
              "array([1., 1., 1.])"
            ]
          },
          "execution_count": 23,
          "metadata": {},
          "output_type": "execute_result"
        }
      ],
      "source": [
        "np.ones(3)"
      ]
    },
    {
      "cell_type": "code",
      "execution_count": null,
      "id": "869ab2a2-4869-48e0-9179-0fbf46e39930",
      "metadata": {
        "id": "869ab2a2-4869-48e0-9179-0fbf46e39930",
        "outputId": "1e6cd142-9939-4de8-8d77-904fd592aa9b"
      },
      "outputs": [
        {
          "data": {
            "text/plain": [
              "array([0., 0.])"
            ]
          },
          "execution_count": 24,
          "metadata": {},
          "output_type": "execute_result"
        }
      ],
      "source": [
        "np.empty(2)"
      ]
    },
    {
      "cell_type": "code",
      "execution_count": null,
      "id": "87bba0a1-9219-402d-a400-02ce1aa3914a",
      "metadata": {
        "id": "87bba0a1-9219-402d-a400-02ce1aa3914a",
        "outputId": "ef0164da-e440-4fde-86bb-eb7d5e9695cc"
      },
      "outputs": [
        {
          "data": {
            "text/plain": [
              "array([0, 1, 2, 3, 4])"
            ]
          },
          "execution_count": 26,
          "metadata": {},
          "output_type": "execute_result"
        }
      ],
      "source": [
        "np.arange(5)"
      ]
    },
    {
      "cell_type": "code",
      "execution_count": null,
      "id": "e8e3484a-d80c-4ec5-9c84-94939bd5ef5f",
      "metadata": {
        "id": "e8e3484a-d80c-4ec5-9c84-94939bd5ef5f",
        "outputId": "c813ba54-a884-4beb-c5f2-e960d7f81ab9"
      },
      "outputs": [
        {
          "data": {
            "text/plain": [
              "array([2, 4, 6, 8])"
            ]
          },
          "execution_count": 27,
          "metadata": {},
          "output_type": "execute_result"
        }
      ],
      "source": [
        "np.arange(2, 9, 2)"
      ]
    },
    {
      "cell_type": "code",
      "execution_count": null,
      "id": "bdd47483-d156-4c8f-87ae-0aad0d65f73b",
      "metadata": {
        "id": "bdd47483-d156-4c8f-87ae-0aad0d65f73b",
        "outputId": "a8d0f08a-1fd6-4ef9-a5a7-37e7819be1fc"
      },
      "outputs": [
        {
          "data": {
            "text/plain": [
              "array([ 4,  7, 10])"
            ]
          },
          "execution_count": 28,
          "metadata": {},
          "output_type": "execute_result"
        }
      ],
      "source": [
        "np.arange(4, 13, 3)"
      ]
    },
    {
      "cell_type": "code",
      "execution_count": null,
      "id": "88298433-d913-4d20-a372-96f33cb77683",
      "metadata": {
        "id": "88298433-d913-4d20-a372-96f33cb77683",
        "outputId": "7134e8f8-a3e5-4cf8-db57-43fe5459faaf"
      },
      "outputs": [
        {
          "data": {
            "text/plain": [
              "array([ 0. ,  2.5,  5. ,  7.5, 10. ])"
            ]
          },
          "execution_count": 29,
          "metadata": {},
          "output_type": "execute_result"
        }
      ],
      "source": [
        "np.linspace(0, 10, num=5)"
      ]
    },
    {
      "cell_type": "code",
      "execution_count": null,
      "id": "a2b23a94-6641-4642-b1a8-b12e17da1bb4",
      "metadata": {
        "id": "a2b23a94-6641-4642-b1a8-b12e17da1bb4"
      },
      "outputs": [],
      "source": [
        "b = np.ones(2, dtype = np.int64)"
      ]
    },
    {
      "cell_type": "code",
      "execution_count": null,
      "id": "65404748-fba2-425b-a72e-d973ffcad818",
      "metadata": {
        "id": "65404748-fba2-425b-a72e-d973ffcad818",
        "outputId": "dcd0dd96-09d0-4ed3-88ef-c121c13abd28"
      },
      "outputs": [
        {
          "data": {
            "text/plain": [
              "array([1, 1])"
            ]
          },
          "execution_count": 33,
          "metadata": {},
          "output_type": "execute_result"
        }
      ],
      "source": [
        "b"
      ]
    },
    {
      "cell_type": "code",
      "execution_count": null,
      "id": "928ac0dc-e246-4602-ae5c-848b464ad59d",
      "metadata": {
        "id": "928ac0dc-e246-4602-ae5c-848b464ad59d"
      },
      "outputs": [],
      "source": [
        "arr = np.array([2, 1, 5, 3, 7, 4, 6, 8])"
      ]
    },
    {
      "cell_type": "code",
      "execution_count": null,
      "id": "b79525fb-fca7-49e2-af9c-22a90b295835",
      "metadata": {
        "id": "b79525fb-fca7-49e2-af9c-22a90b295835",
        "outputId": "926ea3b9-c417-4515-84e7-1b93af73915b"
      },
      "outputs": [
        {
          "data": {
            "text/plain": [
              "array([2, 1, 5, 3, 7, 4, 6, 8])"
            ]
          },
          "execution_count": 35,
          "metadata": {},
          "output_type": "execute_result"
        }
      ],
      "source": [
        "arr"
      ]
    },
    {
      "cell_type": "code",
      "execution_count": null,
      "id": "cf3d4fe3-75a8-4386-b6a6-6538cad1a3ba",
      "metadata": {
        "id": "cf3d4fe3-75a8-4386-b6a6-6538cad1a3ba"
      },
      "outputs": [],
      "source": [
        "arr = np.sort(arr)"
      ]
    },
    {
      "cell_type": "code",
      "execution_count": null,
      "id": "9f84b679-c6c0-4a0a-bf69-41d4d4fe396c",
      "metadata": {
        "id": "9f84b679-c6c0-4a0a-bf69-41d4d4fe396c",
        "outputId": "68af07cd-ffd6-48f6-88f0-a382da9e1401"
      },
      "outputs": [
        {
          "data": {
            "text/plain": [
              "array([1, 2, 3, 4, 5, 6, 7, 8])"
            ]
          },
          "execution_count": 40,
          "metadata": {},
          "output_type": "execute_result"
        }
      ],
      "source": [
        "arr"
      ]
    },
    {
      "cell_type": "code",
      "execution_count": null,
      "id": "daeaf480-e60f-4e9a-b157-505f1216f593",
      "metadata": {
        "id": "daeaf480-e60f-4e9a-b157-505f1216f593"
      },
      "outputs": [],
      "source": [
        "a = np.array([1, 2, 3, 4])\n",
        "b = np.array([5, 6, 7, 8])"
      ]
    },
    {
      "cell_type": "code",
      "execution_count": null,
      "id": "444ccefe-714d-4d17-b063-abef037c057e",
      "metadata": {
        "id": "444ccefe-714d-4d17-b063-abef037c057e",
        "outputId": "36226993-de40-4131-b535-278ce9207748"
      },
      "outputs": [
        {
          "data": {
            "text/plain": [
              "array([1, 2, 3, 4, 5, 6, 7, 8])"
            ]
          },
          "execution_count": 42,
          "metadata": {},
          "output_type": "execute_result"
        }
      ],
      "source": [
        "np.concatenate((a, b))"
      ]
    },
    {
      "cell_type": "code",
      "execution_count": null,
      "id": "f7b997bc-55e8-451f-99ef-c844a5dce613",
      "metadata": {
        "id": "f7b997bc-55e8-451f-99ef-c844a5dce613"
      },
      "outputs": [],
      "source": [
        "x = np.array([[1, 2], [3, 4]])\n",
        "y = np.array([[5, 6]])"
      ]
    },
    {
      "cell_type": "code",
      "execution_count": null,
      "id": "4e30fdac-8740-4187-922f-191b50a60083",
      "metadata": {
        "id": "4e30fdac-8740-4187-922f-191b50a60083",
        "outputId": "f2eba6a5-fa85-4e00-cb7f-240780f92686"
      },
      "outputs": [
        {
          "data": {
            "text/plain": [
              "array([[1, 2],\n",
              "       [3, 4]])"
            ]
          },
          "execution_count": 44,
          "metadata": {},
          "output_type": "execute_result"
        }
      ],
      "source": [
        "x"
      ]
    },
    {
      "cell_type": "code",
      "execution_count": null,
      "id": "a276b871-ae05-49b5-a08e-b39854463c81",
      "metadata": {
        "id": "a276b871-ae05-49b5-a08e-b39854463c81",
        "outputId": "ce5e7949-0dd8-438c-bbc8-aa89943ff254"
      },
      "outputs": [
        {
          "data": {
            "text/plain": [
              "array([[5, 6]])"
            ]
          },
          "execution_count": 45,
          "metadata": {},
          "output_type": "execute_result"
        }
      ],
      "source": [
        "y"
      ]
    },
    {
      "cell_type": "code",
      "execution_count": null,
      "id": "d7059a50-7536-428a-ab32-45a085dc5867",
      "metadata": {
        "id": "d7059a50-7536-428a-ab32-45a085dc5867",
        "outputId": "0ce1f92e-d162-4a13-bb4e-561e2c8ef15b"
      },
      "outputs": [
        {
          "data": {
            "text/plain": [
              "array([[1, 2],\n",
              "       [3, 4],\n",
              "       [5, 6]])"
            ]
          },
          "execution_count": 46,
          "metadata": {},
          "output_type": "execute_result"
        }
      ],
      "source": [
        "np.concatenate((x, y), axis=0)"
      ]
    },
    {
      "cell_type": "code",
      "execution_count": null,
      "id": "3826b14e-d79a-4e96-8e3d-1bba1e5cce0c",
      "metadata": {
        "id": "3826b14e-d79a-4e96-8e3d-1bba1e5cce0c"
      },
      "outputs": [],
      "source": [
        "import numpy as np"
      ]
    },
    {
      "cell_type": "code",
      "execution_count": null,
      "id": "62174072-30d1-4232-b7a5-664a963618d9",
      "metadata": {
        "id": "62174072-30d1-4232-b7a5-664a963618d9"
      },
      "outputs": [],
      "source": [
        "array_example = np.array([[[0, 1, 2, 3],\n",
        "                           [4, 5, 6, 7]],\n",
        "\n",
        "                          [[0, 1, 2, 3],\n",
        "                           [4, 5, 6, 7]],\n",
        "\n",
        "                          [[0 ,1 ,2, 3],\n",
        "                           [4, 5, 6, 7]]])"
      ]
    },
    {
      "cell_type": "code",
      "execution_count": null,
      "id": "018126a6-07c2-42ad-96f7-6230368c97f0",
      "metadata": {
        "id": "018126a6-07c2-42ad-96f7-6230368c97f0",
        "outputId": "d1ed260c-7df6-4f42-ca47-9b40a9b4c355"
      },
      "outputs": [
        {
          "data": {
            "text/plain": [
              "3"
            ]
          },
          "execution_count": 50,
          "metadata": {},
          "output_type": "execute_result"
        }
      ],
      "source": [
        "array_example.ndim"
      ]
    },
    {
      "cell_type": "code",
      "execution_count": null,
      "id": "9817f56a-c856-4c84-b856-5f651fc07a7e",
      "metadata": {
        "id": "9817f56a-c856-4c84-b856-5f651fc07a7e",
        "outputId": "44a47d68-4523-4f1b-8d1a-2f3c2ff765a9"
      },
      "outputs": [
        {
          "data": {
            "text/plain": [
              "24"
            ]
          },
          "execution_count": 51,
          "metadata": {},
          "output_type": "execute_result"
        }
      ],
      "source": [
        "array_example.size"
      ]
    },
    {
      "cell_type": "code",
      "execution_count": null,
      "id": "d104363a-04fe-4238-b68b-bfacfb9e88c4",
      "metadata": {
        "id": "d104363a-04fe-4238-b68b-bfacfb9e88c4",
        "outputId": "3f47fb13-b57d-4c39-e800-9d56b36a5d92"
      },
      "outputs": [
        {
          "data": {
            "text/plain": [
              "(3, 2, 4)"
            ]
          },
          "execution_count": 52,
          "metadata": {},
          "output_type": "execute_result"
        }
      ],
      "source": [
        "array_example.shape"
      ]
    },
    {
      "cell_type": "code",
      "execution_count": null,
      "id": "a4ec3093-3ed8-464b-a208-09c14e600d88",
      "metadata": {
        "id": "a4ec3093-3ed8-464b-a208-09c14e600d88"
      },
      "outputs": [],
      "source": [
        "a = np.arange(6)"
      ]
    },
    {
      "cell_type": "code",
      "execution_count": null,
      "id": "17ad83ca-8ee3-4849-aedd-dddc23e291dd",
      "metadata": {
        "id": "17ad83ca-8ee3-4849-aedd-dddc23e291dd",
        "outputId": "0a27ac54-8ae6-4aa9-eb2a-24cb4b4b46ab"
      },
      "outputs": [
        {
          "data": {
            "text/plain": [
              "array([0, 1, 2, 3, 4, 5])"
            ]
          },
          "execution_count": 54,
          "metadata": {},
          "output_type": "execute_result"
        }
      ],
      "source": [
        "a"
      ]
    },
    {
      "cell_type": "code",
      "execution_count": null,
      "id": "9f2f72b8-dd40-4ddb-93a0-78e1fae537c9",
      "metadata": {
        "id": "9f2f72b8-dd40-4ddb-93a0-78e1fae537c9",
        "outputId": "0a352049-92f7-4ebf-d22f-e31054004280"
      },
      "outputs": [
        {
          "data": {
            "text/plain": [
              "array([[0],\n",
              "       [1],\n",
              "       [2],\n",
              "       [3],\n",
              "       [4],\n",
              "       [5]])"
            ]
          },
          "execution_count": 56,
          "metadata": {},
          "output_type": "execute_result"
        }
      ],
      "source": [
        "a.reshape(6, 1)"
      ]
    },
    {
      "cell_type": "code",
      "execution_count": null,
      "id": "1ef1da6b-a6a6-417d-ad21-f45d08749bd2",
      "metadata": {
        "id": "1ef1da6b-a6a6-417d-ad21-f45d08749bd2",
        "outputId": "8ab7a280-cc3f-4fa7-9aaf-493508c3273e"
      },
      "outputs": [
        {
          "name": "stdout",
          "output_type": "stream",
          "text": [
            "[0 1 2 3 4 5]\n"
          ]
        }
      ],
      "source": [
        "print(a)"
      ]
    },
    {
      "cell_type": "code",
      "execution_count": null,
      "id": "3579133e-f093-41d7-8c12-6121ea2a2d7d",
      "metadata": {
        "id": "3579133e-f093-41d7-8c12-6121ea2a2d7d",
        "outputId": "c513a9d9-e038-4e8f-f4d3-77dab2107b3a"
      },
      "outputs": [
        {
          "data": {
            "text/plain": [
              "array([[0, 1, 2, 3, 4, 5]])"
            ]
          },
          "execution_count": 58,
          "metadata": {},
          "output_type": "execute_result"
        }
      ],
      "source": [
        "np.reshape(a, newshape=(1, 6), order='C')"
      ]
    },
    {
      "cell_type": "code",
      "execution_count": null,
      "id": "f4bb2652-5e40-4eb2-9353-dac5383b8268",
      "metadata": {
        "id": "f4bb2652-5e40-4eb2-9353-dac5383b8268"
      },
      "outputs": [],
      "source": [
        "a = np.array([1, 2, 3, 4, 5, 6])"
      ]
    },
    {
      "cell_type": "code",
      "execution_count": null,
      "id": "9ba95481-3aa8-45bd-af4a-0ee78ff2324b",
      "metadata": {
        "id": "9ba95481-3aa8-45bd-af4a-0ee78ff2324b",
        "outputId": "71247ab1-8919-4ffb-cd28-dcc70810f639"
      },
      "outputs": [
        {
          "data": {
            "text/plain": [
              "array([1, 2, 3, 4, 5, 6])"
            ]
          },
          "execution_count": 60,
          "metadata": {},
          "output_type": "execute_result"
        }
      ],
      "source": [
        "a"
      ]
    },
    {
      "cell_type": "code",
      "execution_count": null,
      "id": "53897393-5369-4aa4-891d-d909026d66aa",
      "metadata": {
        "id": "53897393-5369-4aa4-891d-d909026d66aa",
        "outputId": "382a0f99-698e-4723-e3ab-020b96995e85"
      },
      "outputs": [
        {
          "data": {
            "text/plain": [
              "(6,)"
            ]
          },
          "execution_count": 61,
          "metadata": {},
          "output_type": "execute_result"
        }
      ],
      "source": [
        "a.shape"
      ]
    },
    {
      "cell_type": "code",
      "execution_count": null,
      "id": "b79c647c-df60-4614-abbc-554802b401dd",
      "metadata": {
        "id": "b79c647c-df60-4614-abbc-554802b401dd"
      },
      "outputs": [],
      "source": [
        "a2 = a[np.newaxis, :]"
      ]
    },
    {
      "cell_type": "code",
      "execution_count": null,
      "id": "f9336e1d-2d77-45cf-84b0-9f20986e9a62",
      "metadata": {
        "id": "f9336e1d-2d77-45cf-84b0-9f20986e9a62",
        "outputId": "90bfa2ea-1954-48ed-d24b-43b280bb2d22"
      },
      "outputs": [
        {
          "data": {
            "text/plain": [
              "(1, 6)"
            ]
          },
          "execution_count": 63,
          "metadata": {},
          "output_type": "execute_result"
        }
      ],
      "source": [
        "a2.shape"
      ]
    },
    {
      "cell_type": "code",
      "execution_count": null,
      "id": "f6140505-cced-490f-a975-4ed10c3e2db0",
      "metadata": {
        "id": "f6140505-cced-490f-a975-4ed10c3e2db0"
      },
      "outputs": [],
      "source": [
        "row_vector = a[np.newaxis, :]"
      ]
    },
    {
      "cell_type": "code",
      "execution_count": null,
      "id": "72230717-eeff-465b-8ba6-262daf546373",
      "metadata": {
        "id": "72230717-eeff-465b-8ba6-262daf546373",
        "outputId": "b746e906-936d-4566-ab92-0c473c8e9689"
      },
      "outputs": [
        {
          "data": {
            "text/plain": [
              "(1, 6)"
            ]
          },
          "execution_count": 65,
          "metadata": {},
          "output_type": "execute_result"
        }
      ],
      "source": [
        "row_vector.shape"
      ]
    },
    {
      "cell_type": "code",
      "execution_count": null,
      "id": "c1cf4c5b-c6a1-44fc-8a45-31889df9fe00",
      "metadata": {
        "id": "c1cf4c5b-c6a1-44fc-8a45-31889df9fe00",
        "outputId": "5b78a663-ddf7-4dd7-f16b-2307838a3af5"
      },
      "outputs": [
        {
          "data": {
            "text/plain": [
              "array([[1],\n",
              "       [2],\n",
              "       [3],\n",
              "       [4],\n",
              "       [5],\n",
              "       [6]])"
            ]
          },
          "execution_count": 66,
          "metadata": {},
          "output_type": "execute_result"
        }
      ],
      "source": [
        "a[:, np.newaxis]"
      ]
    },
    {
      "cell_type": "code",
      "execution_count": null,
      "id": "2f94b21b-43cf-4c00-b967-7b3505fb9591",
      "metadata": {
        "id": "2f94b21b-43cf-4c00-b967-7b3505fb9591"
      },
      "outputs": [],
      "source": [
        "col_vector = a[:, np.newaxis]"
      ]
    },
    {
      "cell_type": "code",
      "execution_count": null,
      "id": "acac05c9-088c-4843-832b-eda12786ff25",
      "metadata": {
        "id": "acac05c9-088c-4843-832b-eda12786ff25",
        "outputId": "4b5cb847-1f04-40db-e521-445c9b07a505"
      },
      "outputs": [
        {
          "data": {
            "text/plain": [
              "(6, 1)"
            ]
          },
          "execution_count": 68,
          "metadata": {},
          "output_type": "execute_result"
        }
      ],
      "source": [
        "col_vector.shape"
      ]
    },
    {
      "cell_type": "code",
      "execution_count": null,
      "id": "8ea7020b-186d-475c-a75d-ae75005594c5",
      "metadata": {
        "id": "8ea7020b-186d-475c-a75d-ae75005594c5"
      },
      "outputs": [],
      "source": [
        "import numpy as np"
      ]
    },
    {
      "cell_type": "code",
      "execution_count": null,
      "id": "0bb08afb-89ac-4b07-a930-6cb56756b5b3",
      "metadata": {
        "id": "0bb08afb-89ac-4b07-a930-6cb56756b5b3"
      },
      "outputs": [],
      "source": [
        "data = np.array([1, 2, 3])"
      ]
    },
    {
      "cell_type": "code",
      "execution_count": null,
      "id": "fe5ecb06-a914-43f7-b826-d6f755858f60",
      "metadata": {
        "id": "fe5ecb06-a914-43f7-b826-d6f755858f60",
        "outputId": "6563d663-a308-41b0-8c8d-2b69a211da1e"
      },
      "outputs": [
        {
          "data": {
            "text/plain": [
              "array([1, 2, 3])"
            ]
          },
          "execution_count": 71,
          "metadata": {},
          "output_type": "execute_result"
        }
      ],
      "source": [
        "data"
      ]
    },
    {
      "cell_type": "code",
      "execution_count": null,
      "id": "20165623-e089-4e87-b879-cc2b090b131a",
      "metadata": {
        "id": "20165623-e089-4e87-b879-cc2b090b131a",
        "outputId": "fd4ce7a3-a77c-4c8a-ac13-c07f1218f6b0"
      },
      "outputs": [
        {
          "data": {
            "text/plain": [
              "2"
            ]
          },
          "execution_count": 72,
          "metadata": {},
          "output_type": "execute_result"
        }
      ],
      "source": [
        "data[1]"
      ]
    },
    {
      "cell_type": "code",
      "execution_count": null,
      "id": "e188f445-1090-4923-8c07-0d441e9405d1",
      "metadata": {
        "id": "e188f445-1090-4923-8c07-0d441e9405d1",
        "outputId": "208ddcd9-262f-4853-d7da-1922c7b37588"
      },
      "outputs": [
        {
          "data": {
            "text/plain": [
              "array([1, 2])"
            ]
          },
          "execution_count": 73,
          "metadata": {},
          "output_type": "execute_result"
        }
      ],
      "source": [
        "data[0:2]"
      ]
    },
    {
      "cell_type": "code",
      "execution_count": null,
      "id": "f29a7cab-09e3-48a6-9b61-ff1f1594d3ef",
      "metadata": {
        "id": "f29a7cab-09e3-48a6-9b61-ff1f1594d3ef",
        "outputId": "ac52c5dd-ec15-43dc-87bd-a0a9f03318a9"
      },
      "outputs": [
        {
          "data": {
            "text/plain": [
              "array([2, 3])"
            ]
          },
          "execution_count": 74,
          "metadata": {},
          "output_type": "execute_result"
        }
      ],
      "source": [
        "data[1:]"
      ]
    },
    {
      "cell_type": "code",
      "execution_count": null,
      "id": "edec25f4-2583-439c-be6d-59327b311df4",
      "metadata": {
        "id": "edec25f4-2583-439c-be6d-59327b311df4",
        "outputId": "480294cb-da2a-4265-adfc-065e016cf9d3"
      },
      "outputs": [
        {
          "data": {
            "text/plain": [
              "array([2, 3])"
            ]
          },
          "execution_count": 76,
          "metadata": {},
          "output_type": "execute_result"
        }
      ],
      "source": [
        "data[-2:]"
      ]
    },
    {
      "cell_type": "code",
      "execution_count": null,
      "id": "b5c44a02-e859-4960-8d56-3a4f7e5daf5a",
      "metadata": {
        "id": "b5c44a02-e859-4960-8d56-3a4f7e5daf5a"
      },
      "outputs": [],
      "source": [
        "a = np.array([[1 , 2, 3, 4], [5, 6, 7, 8], [9, 10, 11, 12]])"
      ]
    },
    {
      "cell_type": "code",
      "execution_count": null,
      "id": "a2031467-fe1b-42d9-8326-205480d0cab1",
      "metadata": {
        "id": "a2031467-fe1b-42d9-8326-205480d0cab1",
        "outputId": "8379f56f-5af2-4f77-c5f5-3f59ef4676f7"
      },
      "outputs": [
        {
          "data": {
            "text/plain": [
              "array([[ 1,  2,  3,  4],\n",
              "       [ 5,  6,  7,  8],\n",
              "       [ 9, 10, 11, 12]])"
            ]
          },
          "execution_count": 78,
          "metadata": {},
          "output_type": "execute_result"
        }
      ],
      "source": [
        "a"
      ]
    },
    {
      "cell_type": "code",
      "execution_count": null,
      "id": "6eece911-7e9e-4849-9e78-9b3b95585bd3",
      "metadata": {
        "id": "6eece911-7e9e-4849-9e78-9b3b95585bd3",
        "outputId": "aa6e8709-8f6c-49b2-b4c2-beeeaf9fae5b"
      },
      "outputs": [
        {
          "data": {
            "text/plain": [
              "array([[ True,  True,  True,  True],\n",
              "       [False, False, False, False],\n",
              "       [False, False, False, False]])"
            ]
          },
          "execution_count": 80,
          "metadata": {},
          "output_type": "execute_result"
        }
      ],
      "source": [
        "a<5"
      ]
    },
    {
      "cell_type": "code",
      "execution_count": null,
      "id": "bbcac693-98d2-42e5-a9df-7c66cb1f40f3",
      "metadata": {
        "id": "bbcac693-98d2-42e5-a9df-7c66cb1f40f3",
        "outputId": "3428a320-384c-4abd-b90e-45b1ed6f930f"
      },
      "outputs": [
        {
          "data": {
            "text/plain": [
              "array([1, 2, 3, 4])"
            ]
          },
          "execution_count": 86,
          "metadata": {},
          "output_type": "execute_result"
        }
      ],
      "source": [
        "a[a<5]"
      ]
    },
    {
      "cell_type": "code",
      "execution_count": null,
      "id": "70940eb8-39ee-4375-b65f-021433708600",
      "metadata": {
        "id": "70940eb8-39ee-4375-b65f-021433708600",
        "outputId": "1eec9871-3616-4994-ff35-74e1a8d3e6a2"
      },
      "outputs": [
        {
          "name": "stdout",
          "output_type": "stream",
          "text": [
            "[1 2 3 4]\n"
          ]
        }
      ],
      "source": [
        "print(a[a < 5])"
      ]
    },
    {
      "cell_type": "code",
      "execution_count": null,
      "id": "087c81d3-6404-46aa-91b8-829ccd076069",
      "metadata": {
        "id": "087c81d3-6404-46aa-91b8-829ccd076069",
        "outputId": "bb6c8b12-b0e9-4cda-b0fe-91cc8534be25"
      },
      "outputs": [
        {
          "name": "stdout",
          "output_type": "stream",
          "text": [
            "[ 5  6  7  8  9 10 11 12]\n"
          ]
        }
      ],
      "source": [
        "print(a[a >= 5])"
      ]
    },
    {
      "cell_type": "code",
      "execution_count": null,
      "id": "41a59598-19c3-44eb-905d-ee25ed7d799c",
      "metadata": {
        "id": "41a59598-19c3-44eb-905d-ee25ed7d799c",
        "outputId": "e276642a-1367-49c2-d655-5e6e1ced451a"
      },
      "outputs": [
        {
          "data": {
            "text/plain": [
              "array([[False,  True, False,  True],\n",
              "       [False,  True, False,  True],\n",
              "       [False,  True, False,  True]])"
            ]
          },
          "execution_count": 88,
          "metadata": {},
          "output_type": "execute_result"
        }
      ],
      "source": [
        "a%2==0"
      ]
    },
    {
      "cell_type": "code",
      "execution_count": null,
      "id": "11ec0f88-89bc-4837-87fa-16d5f92145da",
      "metadata": {
        "id": "11ec0f88-89bc-4837-87fa-16d5f92145da",
        "outputId": "deee4c56-0b3f-476e-baab-5ff652ef5e39"
      },
      "outputs": [
        {
          "data": {
            "text/plain": [
              "array([ 2,  4,  6,  8, 10, 12])"
            ]
          },
          "execution_count": 89,
          "metadata": {},
          "output_type": "execute_result"
        }
      ],
      "source": [
        "a[a%2==0]"
      ]
    },
    {
      "cell_type": "code",
      "execution_count": null,
      "id": "7550d688-0bb3-48f4-8a54-0f5bf82439c9",
      "metadata": {
        "id": "7550d688-0bb3-48f4-8a54-0f5bf82439c9"
      },
      "outputs": [],
      "source": [
        "b = 2"
      ]
    },
    {
      "cell_type": "code",
      "execution_count": null,
      "id": "4331c6f9-ecdf-4433-b5ad-c7cf91af42fb",
      "metadata": {
        "id": "4331c6f9-ecdf-4433-b5ad-c7cf91af42fb",
        "outputId": "662f19ee-f1a5-466e-820e-ce67d66c94e3"
      },
      "outputs": [
        {
          "name": "stdout",
          "output_type": "stream",
          "text": [
            "좋아요\n"
          ]
        }
      ],
      "source": [
        "if b >5 :\n",
        "    print(\"정말 크네요\")\n",
        "else:\n",
        "    print(\"좋아요\")"
      ]
    },
    {
      "cell_type": "code",
      "execution_count": null,
      "id": "c63a1a25-aea2-4a0a-8a07-c80bf7f17621",
      "metadata": {
        "id": "c63a1a25-aea2-4a0a-8a07-c80bf7f17621",
        "outputId": "981b1da9-ff75-4e56-8ec5-42db65c013df"
      },
      "outputs": [
        {
          "data": {
            "text/plain": [
              "False"
            ]
          },
          "execution_count": 85,
          "metadata": {},
          "output_type": "execute_result"
        }
      ],
      "source": [
        "b>7"
      ]
    },
    {
      "cell_type": "code",
      "execution_count": null,
      "id": "ca5bb8ef-ea39-43a4-ac6d-8c7e6623530e",
      "metadata": {
        "id": "ca5bb8ef-ea39-43a4-ac6d-8c7e6623530e"
      },
      "outputs": [],
      "source": [
        "c = a[(a > 2) & (a < 11)]"
      ]
    },
    {
      "cell_type": "code",
      "execution_count": null,
      "id": "0a3b5a9b-d993-45d9-9e9c-a8ae193f20c7",
      "metadata": {
        "id": "0a3b5a9b-d993-45d9-9e9c-a8ae193f20c7",
        "outputId": "b09fa3ad-e9a0-4da7-e09a-cc30178a3674"
      },
      "outputs": [
        {
          "data": {
            "text/plain": [
              "array([ 3,  4,  5,  6,  7,  8,  9, 10])"
            ]
          },
          "execution_count": 92,
          "metadata": {},
          "output_type": "execute_result"
        }
      ],
      "source": [
        "a[(a > 2) & (a < 11)]"
      ]
    },
    {
      "cell_type": "code",
      "execution_count": null,
      "id": "bb30ab95-619a-461d-890f-c1173ca0bba1",
      "metadata": {
        "id": "bb30ab95-619a-461d-890f-c1173ca0bba1",
        "outputId": "e0e362b4-f117-4b23-d24f-8ecfa903ab5c"
      },
      "outputs": [
        {
          "name": "stdout",
          "output_type": "stream",
          "text": [
            "[ 3  4  5  6  7  8  9 10]\n"
          ]
        }
      ],
      "source": [
        "print(c)"
      ]
    },
    {
      "cell_type": "code",
      "execution_count": null,
      "id": "b72dc978-157c-463e-aec5-2507371c01b7",
      "metadata": {
        "id": "b72dc978-157c-463e-aec5-2507371c01b7",
        "outputId": "aa0977a3-3cf6-40d3-a7ff-2b81b0ff0074"
      },
      "outputs": [
        {
          "data": {
            "text/plain": [
              "array([ 5,  6,  7,  8,  9, 10, 11, 12])"
            ]
          },
          "execution_count": 94,
          "metadata": {},
          "output_type": "execute_result"
        }
      ],
      "source": [
        "a[(a > 5) | (a == 5)]"
      ]
    },
    {
      "cell_type": "code",
      "execution_count": null,
      "id": "2c4a533f-d7fb-44d4-be8c-303e282ebf33",
      "metadata": {
        "id": "2c4a533f-d7fb-44d4-be8c-303e282ebf33"
      },
      "outputs": [],
      "source": [
        "a = np.array([[1, 2, 3, 4], [5, 6, 7, 8], [9, 10, 11, 12]])"
      ]
    },
    {
      "cell_type": "code",
      "execution_count": null,
      "id": "7242d175-4bcd-49f3-a62a-822df82cb265",
      "metadata": {
        "id": "7242d175-4bcd-49f3-a62a-822df82cb265",
        "outputId": "29409784-6478-4a6f-994d-a606454dbea5"
      },
      "outputs": [
        {
          "data": {
            "text/plain": [
              "array([[ 1,  2,  3,  4],\n",
              "       [ 5,  6,  7,  8],\n",
              "       [ 9, 10, 11, 12]])"
            ]
          },
          "execution_count": 97,
          "metadata": {},
          "output_type": "execute_result"
        }
      ],
      "source": [
        "a"
      ]
    },
    {
      "cell_type": "code",
      "execution_count": null,
      "id": "f3099302-3dcd-4c57-a7ae-90e53d96c01d",
      "metadata": {
        "id": "f3099302-3dcd-4c57-a7ae-90e53d96c01d",
        "outputId": "2c7b3e76-36a7-44fb-b03e-08c21ddef825"
      },
      "outputs": [
        {
          "data": {
            "text/plain": [
              "(array([0, 0, 0, 0]), array([0, 1, 2, 3]))"
            ]
          },
          "execution_count": 99,
          "metadata": {},
          "output_type": "execute_result"
        }
      ],
      "source": [
        "np.nonzero(a < 5)"
      ]
    },
    {
      "cell_type": "code",
      "execution_count": null,
      "id": "180aedd8-eb4f-4d6d-a918-bb26e1a74aa6",
      "metadata": {
        "id": "180aedd8-eb4f-4d6d-a918-bb26e1a74aa6"
      },
      "outputs": [],
      "source": [
        "b=np.nonzero(a < 5)"
      ]
    },
    {
      "cell_type": "code",
      "execution_count": null,
      "id": "375997e0-cb63-4100-b5fd-87c8252855e6",
      "metadata": {
        "id": "375997e0-cb63-4100-b5fd-87c8252855e6",
        "outputId": "c65d3ece-2ae9-4373-aca8-0a90c4beab68"
      },
      "outputs": [
        {
          "data": {
            "text/plain": [
              "(array([0, 0, 0, 0]), array([0, 1, 2, 3]))"
            ]
          },
          "execution_count": 101,
          "metadata": {},
          "output_type": "execute_result"
        }
      ],
      "source": [
        "b"
      ]
    },
    {
      "cell_type": "code",
      "execution_count": null,
      "id": "6dbf1f44-c603-422a-8513-0442736bcac2",
      "metadata": {
        "id": "6dbf1f44-c603-422a-8513-0442736bcac2",
        "outputId": "62ba80a4-bc28-4c9d-8e57-9a48d8f78125"
      },
      "outputs": [
        {
          "data": {
            "text/plain": [
              "[(0, 0), (0, 1), (0, 2), (0, 3)]"
            ]
          },
          "execution_count": 102,
          "metadata": {},
          "output_type": "execute_result"
        }
      ],
      "source": [
        "list(zip(b[0], b[1]))"
      ]
    },
    {
      "cell_type": "code",
      "execution_count": null,
      "id": "40d40620-29a4-44ca-b71f-b5e5340312e6",
      "metadata": {
        "id": "40d40620-29a4-44ca-b71f-b5e5340312e6",
        "outputId": "bd0bb45a-fa31-4636-c8cc-e2d3a4208890"
      },
      "outputs": [
        {
          "data": {
            "text/plain": [
              "[(0, 0), (0, 1), (0, 2), (0, 3)]"
            ]
          },
          "execution_count": 104,
          "metadata": {},
          "output_type": "execute_result"
        }
      ],
      "source": [
        "list_of_coordinates"
      ]
    },
    {
      "cell_type": "code",
      "execution_count": null,
      "id": "459a8cc4-3186-4b9f-9499-c8a46e4b9e8d",
      "metadata": {
        "id": "459a8cc4-3186-4b9f-9499-c8a46e4b9e8d",
        "outputId": "f34f41e4-3d3f-4eba-fdae-76c9ef5d052e"
      },
      "outputs": [
        {
          "name": "stdout",
          "output_type": "stream",
          "text": [
            "(0, 0)\n",
            "(0, 1)\n",
            "(0, 2)\n",
            "(0, 3)\n"
          ]
        }
      ],
      "source": [
        "for coord in list_of_coordinates:\n",
        "    print(coord)"
      ]
    },
    {
      "cell_type": "code",
      "execution_count": null,
      "id": "049a57c5-a76c-4a4b-9c3e-c9fad440d640",
      "metadata": {
        "id": "049a57c5-a76c-4a4b-9c3e-c9fad440d640"
      },
      "outputs": [],
      "source": [
        "a = np.array([1,  2,  3,  4,  5,  6,  7,  8,  9, 10])"
      ]
    },
    {
      "cell_type": "code",
      "execution_count": null,
      "id": "00c52cd9-7fbc-4f8a-9891-c1e7e555a250",
      "metadata": {
        "id": "00c52cd9-7fbc-4f8a-9891-c1e7e555a250"
      },
      "outputs": [],
      "source": [
        "arr1 = a[3:8]"
      ]
    },
    {
      "cell_type": "code",
      "execution_count": null,
      "id": "e9adf538-19c0-41e8-ab6d-377b42813ca7",
      "metadata": {
        "id": "e9adf538-19c0-41e8-ab6d-377b42813ca7",
        "outputId": "3ea1f31f-5dfb-49b7-ccfd-b7c71b9c3587"
      },
      "outputs": [
        {
          "data": {
            "text/plain": [
              "array([4, 5, 6, 7, 8])"
            ]
          },
          "execution_count": 108,
          "metadata": {},
          "output_type": "execute_result"
        }
      ],
      "source": [
        "arr1"
      ]
    },
    {
      "cell_type": "code",
      "execution_count": null,
      "id": "d9ff6e9e-bfc3-4000-8cdd-19a771bea423",
      "metadata": {
        "id": "d9ff6e9e-bfc3-4000-8cdd-19a771bea423"
      },
      "outputs": [],
      "source": [
        "a1 = np.array([[1, 1],\n",
        "               [2, 2]])"
      ]
    },
    {
      "cell_type": "code",
      "execution_count": null,
      "id": "f79c3990-82f9-4bef-8aa9-184c48e0f2b7",
      "metadata": {
        "id": "f79c3990-82f9-4bef-8aa9-184c48e0f2b7"
      },
      "outputs": [],
      "source": [
        "a2 = np.array([[3, 3],\n",
        "               [4, 4]])"
      ]
    },
    {
      "cell_type": "code",
      "execution_count": null,
      "id": "7949c75f-7cb5-4dd4-9e77-6f1a88faa966",
      "metadata": {
        "id": "7949c75f-7cb5-4dd4-9e77-6f1a88faa966",
        "outputId": "89d88b5f-ddee-4f63-93e8-45c7c8847c0b"
      },
      "outputs": [
        {
          "data": {
            "text/plain": [
              "array([[1, 1],\n",
              "       [2, 2],\n",
              "       [3, 3],\n",
              "       [4, 4]])"
            ]
          },
          "execution_count": 111,
          "metadata": {},
          "output_type": "execute_result"
        }
      ],
      "source": [
        "np.vstack((a1, a2))"
      ]
    },
    {
      "cell_type": "code",
      "execution_count": null,
      "id": "25191574-c93d-4d85-89e5-39a6e2b129cd",
      "metadata": {
        "id": "25191574-c93d-4d85-89e5-39a6e2b129cd",
        "outputId": "c8757cc9-e602-4ec7-f929-4ea08651fef1"
      },
      "outputs": [
        {
          "data": {
            "text/plain": [
              "array([[1, 1, 3, 3],\n",
              "       [2, 2, 4, 4]])"
            ]
          },
          "execution_count": 114,
          "metadata": {},
          "output_type": "execute_result"
        }
      ],
      "source": [
        "np.concatenate((a1, a2), axis=1)"
      ]
    },
    {
      "cell_type": "code",
      "execution_count": null,
      "id": "df6dc25a-e532-499e-b110-cadece1385d7",
      "metadata": {
        "id": "df6dc25a-e532-499e-b110-cadece1385d7"
      },
      "outputs": [],
      "source": [
        "x = np.arange(1, 25)"
      ]
    },
    {
      "cell_type": "code",
      "execution_count": null,
      "id": "651f8a8d-8c5d-4709-88b6-bed6707bd4c1",
      "metadata": {
        "id": "651f8a8d-8c5d-4709-88b6-bed6707bd4c1",
        "outputId": "23740f96-0db3-41a9-b15a-773b9b4b7468"
      },
      "outputs": [
        {
          "data": {
            "text/plain": [
              "array([ 1,  2,  3,  4,  5,  6,  7,  8,  9, 10, 11, 12, 13, 14, 15, 16, 17,\n",
              "       18, 19, 20, 21, 22, 23, 24])"
            ]
          },
          "execution_count": 116,
          "metadata": {},
          "output_type": "execute_result"
        }
      ],
      "source": [
        "x"
      ]
    },
    {
      "cell_type": "code",
      "execution_count": null,
      "id": "03f19d92-f7ff-4337-9bf9-a1c2ee3b84d4",
      "metadata": {
        "id": "03f19d92-f7ff-4337-9bf9-a1c2ee3b84d4",
        "outputId": "8f5b33e9-079e-4dfd-9b6b-c6fe22796e85"
      },
      "outputs": [
        {
          "data": {
            "text/plain": [
              "array([[ 1,  2,  3,  4,  5,  6,  7,  8,  9, 10, 11, 12],\n",
              "       [13, 14, 15, 16, 17, 18, 19, 20, 21, 22, 23, 24]])"
            ]
          },
          "execution_count": 120,
          "metadata": {},
          "output_type": "execute_result"
        }
      ],
      "source": [
        "x.reshape(2, 12)"
      ]
    },
    {
      "cell_type": "code",
      "execution_count": null,
      "id": "76e74910-ab92-4091-a4af-dde86593d0d6",
      "metadata": {
        "id": "76e74910-ab92-4091-a4af-dde86593d0d6",
        "outputId": "636eac1c-3eb7-47d5-d205-ccc341ceeff0"
      },
      "outputs": [
        {
          "data": {
            "text/plain": [
              "array([[ 1,  2,  3,  4,  5,  6,  7,  8,  9, 10, 11, 12],\n",
              "       [13, 14, 15, 16, 17, 18, 19, 20, 21, 22, 23, 24]])"
            ]
          },
          "execution_count": 121,
          "metadata": {},
          "output_type": "execute_result"
        }
      ],
      "source": [
        "np.arange(1, 25).reshape(2, 12)"
      ]
    },
    {
      "cell_type": "code",
      "execution_count": null,
      "id": "00bbbd51-8ab7-4b54-9614-fc0e49a822fa",
      "metadata": {
        "id": "00bbbd51-8ab7-4b54-9614-fc0e49a822fa",
        "outputId": "1beb030e-9f39-449f-ccaa-0a242ca2d3c6"
      },
      "outputs": [
        {
          "data": {
            "text/plain": [
              "[array([1, 2, 3, 4, 5, 6, 7, 8]),\n",
              " array([ 9, 10, 11, 12, 13, 14, 15, 16]),\n",
              " array([17, 18, 19, 20, 21, 22, 23, 24])]"
            ]
          },
          "execution_count": 122,
          "metadata": {},
          "output_type": "execute_result"
        }
      ],
      "source": [
        "np.hsplit(x, 3)"
      ]
    },
    {
      "cell_type": "code",
      "execution_count": null,
      "id": "9bb89ae6-0676-427d-a90a-3f2ffb54a302",
      "metadata": {
        "id": "9bb89ae6-0676-427d-a90a-3f2ffb54a302",
        "outputId": "d9a55cc5-9ad8-4b01-eba9-c1b2bbdec435"
      },
      "outputs": [
        {
          "data": {
            "text/plain": [
              "[array([1, 2, 3]),\n",
              " array([4]),\n",
              " array([ 5,  6,  7,  8,  9, 10, 11, 12, 13, 14, 15, 16, 17, 18, 19, 20, 21,\n",
              "        22, 23, 24])]"
            ]
          },
          "execution_count": 123,
          "metadata": {},
          "output_type": "execute_result"
        }
      ],
      "source": [
        "np.hsplit(x, (3, 4))"
      ]
    },
    {
      "cell_type": "code",
      "execution_count": null,
      "id": "b20a96c1-c2da-48c7-8c41-94db8f85f748",
      "metadata": {
        "id": "b20a96c1-c2da-48c7-8c41-94db8f85f748"
      },
      "outputs": [],
      "source": [
        "a = np.array([[1, 2, 3, 4], [5, 6, 7, 8], [9, 10, 11, 12]])"
      ]
    },
    {
      "cell_type": "code",
      "execution_count": null,
      "id": "a03cdef0-b607-4304-92a1-d3fffe371370",
      "metadata": {
        "id": "a03cdef0-b607-4304-92a1-d3fffe371370",
        "outputId": "ad95296d-11a9-4e7e-d446-e6ac95f5442d"
      },
      "outputs": [
        {
          "data": {
            "text/plain": [
              "array([[ 1,  2,  3,  4],\n",
              "       [ 5,  6,  7,  8],\n",
              "       [ 9, 10, 11, 12]])"
            ]
          },
          "execution_count": 125,
          "metadata": {},
          "output_type": "execute_result"
        }
      ],
      "source": [
        "a"
      ]
    },
    {
      "cell_type": "code",
      "execution_count": null,
      "id": "4f89275e-4d8c-4b67-8fa3-21f7415830d4",
      "metadata": {
        "id": "4f89275e-4d8c-4b67-8fa3-21f7415830d4",
        "outputId": "8a2d39bf-e254-46a4-d8a4-f500a0e1b91e"
      },
      "outputs": [
        {
          "data": {
            "text/plain": [
              "6"
            ]
          },
          "execution_count": 126,
          "metadata": {},
          "output_type": "execute_result"
        }
      ],
      "source": [
        "a[1, 1]"
      ]
    },
    {
      "cell_type": "code",
      "execution_count": null,
      "id": "e2c21134-9aac-4454-b8a3-5dcadfdd6eae",
      "metadata": {
        "id": "e2c21134-9aac-4454-b8a3-5dcadfdd6eae",
        "outputId": "90c9a943-4e9f-4ec9-a5b0-bebb58bb3a5d"
      },
      "outputs": [
        {
          "data": {
            "text/plain": [
              "array([[ 9, 10, 11, 12]])"
            ]
          },
          "execution_count": 129,
          "metadata": {},
          "output_type": "execute_result"
        }
      ],
      "source": [
        "a[2:]"
      ]
    },
    {
      "cell_type": "code",
      "execution_count": null,
      "id": "616d001d-7473-49d7-924f-7dffa0569dcd",
      "metadata": {
        "id": "616d001d-7473-49d7-924f-7dffa0569dcd"
      },
      "outputs": [],
      "source": [
        "b1 = a[0, :]"
      ]
    },
    {
      "cell_type": "code",
      "execution_count": null,
      "id": "1c0ded63-a144-4b46-9836-7889ac60ad54",
      "metadata": {
        "id": "1c0ded63-a144-4b46-9836-7889ac60ad54",
        "outputId": "b5ca22e7-b974-4e1e-b101-36e7fe727a86"
      },
      "outputs": [
        {
          "data": {
            "text/plain": [
              "array([1, 2, 3, 4])"
            ]
          },
          "execution_count": 132,
          "metadata": {},
          "output_type": "execute_result"
        }
      ],
      "source": [
        "b1"
      ]
    },
    {
      "cell_type": "code",
      "execution_count": null,
      "id": "ca6316da-5e72-40cd-9e51-d11611993a68",
      "metadata": {
        "id": "ca6316da-5e72-40cd-9e51-d11611993a68"
      },
      "outputs": [],
      "source": [
        "b1 = a.copy()"
      ]
    },
    {
      "cell_type": "code",
      "execution_count": null,
      "id": "97459a28-0e83-4909-a45b-0aaa52bf34c5",
      "metadata": {
        "id": "97459a28-0e83-4909-a45b-0aaa52bf34c5"
      },
      "outputs": [],
      "source": [
        "b1[0] = 99"
      ]
    },
    {
      "cell_type": "code",
      "execution_count": null,
      "id": "e6bee058-db87-4a7c-a388-cab39ad10099",
      "metadata": {
        "id": "e6bee058-db87-4a7c-a388-cab39ad10099",
        "outputId": "e57df377-751d-4019-cd76-1e89d920243f"
      },
      "outputs": [
        {
          "data": {
            "text/plain": [
              "array([[99, 99, 99, 99],\n",
              "       [ 5,  6,  7,  8],\n",
              "       [ 9, 10, 11, 12]])"
            ]
          },
          "execution_count": 138,
          "metadata": {},
          "output_type": "execute_result"
        }
      ],
      "source": [
        "b1"
      ]
    },
    {
      "cell_type": "code",
      "execution_count": null,
      "id": "45efaee5-5355-4eca-b0bc-42ddd584b2b3",
      "metadata": {
        "id": "45efaee5-5355-4eca-b0bc-42ddd584b2b3",
        "outputId": "52ad66f7-1da6-46db-ef0b-99ed8c2630a4"
      },
      "outputs": [
        {
          "data": {
            "text/plain": [
              "array([[99,  2,  3,  4],\n",
              "       [ 5,  6,  7,  8],\n",
              "       [ 9, 10, 11, 12]])"
            ]
          },
          "execution_count": 139,
          "metadata": {},
          "output_type": "execute_result"
        }
      ],
      "source": [
        "a"
      ]
    },
    {
      "cell_type": "code",
      "execution_count": null,
      "id": "881c8fb9-ada4-4c01-833e-dd6890ad10bd",
      "metadata": {
        "id": "881c8fb9-ada4-4c01-833e-dd6890ad10bd"
      },
      "outputs": [],
      "source": [
        "data = np.array([1, 2])"
      ]
    },
    {
      "cell_type": "code",
      "execution_count": null,
      "id": "cd97012c-2c87-476b-bc4e-a6195a466cf1",
      "metadata": {
        "id": "cd97012c-2c87-476b-bc4e-a6195a466cf1"
      },
      "outputs": [],
      "source": [
        "ones = np.ones(2, dtype=int)"
      ]
    },
    {
      "cell_type": "code",
      "execution_count": null,
      "id": "c2467cd7-4090-4f53-80a9-5bae1d99c961",
      "metadata": {
        "id": "c2467cd7-4090-4f53-80a9-5bae1d99c961",
        "outputId": "7ae70812-80ab-4c95-c31f-438bf6ebf6a2"
      },
      "outputs": [
        {
          "data": {
            "text/plain": [
              "array([2, 3])"
            ]
          },
          "execution_count": 142,
          "metadata": {},
          "output_type": "execute_result"
        }
      ],
      "source": [
        "data + ones"
      ]
    },
    {
      "cell_type": "code",
      "execution_count": null,
      "id": "eb7e9b6b-8091-4f2d-84f7-08e586dab159",
      "metadata": {
        "id": "eb7e9b6b-8091-4f2d-84f7-08e586dab159",
        "outputId": "c764de5c-0b10-4a2e-aa87-fc723e282358"
      },
      "outputs": [
        {
          "data": {
            "text/plain": [
              "array([0, 1])"
            ]
          },
          "execution_count": 143,
          "metadata": {},
          "output_type": "execute_result"
        }
      ],
      "source": [
        "data - ones"
      ]
    },
    {
      "cell_type": "code",
      "execution_count": null,
      "id": "549106a2-3372-474d-83aa-6aa9eb61ba59",
      "metadata": {
        "id": "549106a2-3372-474d-83aa-6aa9eb61ba59",
        "outputId": "bcf1047b-4d18-4e42-faa2-fef2af9432bb"
      },
      "outputs": [
        {
          "data": {
            "text/plain": [
              "array([1, 4])"
            ]
          },
          "execution_count": 144,
          "metadata": {},
          "output_type": "execute_result"
        }
      ],
      "source": [
        "data * data"
      ]
    },
    {
      "cell_type": "code",
      "execution_count": null,
      "id": "addd1d63-71f4-4ed9-95be-f5c034a4b9a9",
      "metadata": {
        "id": "addd1d63-71f4-4ed9-95be-f5c034a4b9a9"
      },
      "outputs": [],
      "source": [
        "a = np.array([1, 2, 3, 4])"
      ]
    },
    {
      "cell_type": "code",
      "execution_count": null,
      "id": "00d48fd4-faf8-44f8-9932-c81214facbc7",
      "metadata": {
        "id": "00d48fd4-faf8-44f8-9932-c81214facbc7",
        "outputId": "217aac73-6bb9-4bc2-ae6f-b3f19b460d33"
      },
      "outputs": [
        {
          "data": {
            "text/plain": [
              "10"
            ]
          },
          "execution_count": 146,
          "metadata": {},
          "output_type": "execute_result"
        }
      ],
      "source": [
        "a.sum()"
      ]
    },
    {
      "cell_type": "code",
      "execution_count": null,
      "id": "ab233b11-5566-4446-9b71-180a2d6a495f",
      "metadata": {
        "id": "ab233b11-5566-4446-9b71-180a2d6a495f"
      },
      "outputs": [],
      "source": [
        "b = np.array([[1, 1], [2, 2]])"
      ]
    },
    {
      "cell_type": "code",
      "execution_count": null,
      "id": "0bdc2de8-0ac9-4429-9421-90fdba667042",
      "metadata": {
        "id": "0bdc2de8-0ac9-4429-9421-90fdba667042",
        "outputId": "08e3c6b2-112a-4bb7-b82f-6e7ae5b35833"
      },
      "outputs": [
        {
          "data": {
            "text/plain": [
              "array([[1, 1],\n",
              "       [2, 2]])"
            ]
          },
          "execution_count": 148,
          "metadata": {},
          "output_type": "execute_result"
        }
      ],
      "source": [
        "b"
      ]
    },
    {
      "cell_type": "code",
      "execution_count": null,
      "id": "cb9b8bde-e03c-4103-9f42-366f0109eefa",
      "metadata": {
        "id": "cb9b8bde-e03c-4103-9f42-366f0109eefa",
        "outputId": "92ce5f9b-719f-45a0-caa9-abbad7afb733"
      },
      "outputs": [
        {
          "data": {
            "text/plain": [
              "array([3, 3])"
            ]
          },
          "execution_count": 149,
          "metadata": {},
          "output_type": "execute_result"
        }
      ],
      "source": [
        "b.sum(axis=0)"
      ]
    },
    {
      "cell_type": "code",
      "execution_count": null,
      "id": "51af5e96-0b78-4f02-afbc-651bf5f7511f",
      "metadata": {
        "id": "51af5e96-0b78-4f02-afbc-651bf5f7511f",
        "outputId": "c9a5cb5e-042b-43d9-c7ad-36d00226e226"
      },
      "outputs": [
        {
          "data": {
            "text/plain": [
              "array([2, 4])"
            ]
          },
          "execution_count": 150,
          "metadata": {},
          "output_type": "execute_result"
        }
      ],
      "source": [
        "b.sum(axis=1)"
      ]
    },
    {
      "cell_type": "code",
      "execution_count": null,
      "id": "44802f28-ba2e-47b1-8af5-67374a7445c8",
      "metadata": {
        "id": "44802f28-ba2e-47b1-8af5-67374a7445c8"
      },
      "outputs": [],
      "source": [
        "data = np.array([1.0, 2.0])"
      ]
    },
    {
      "cell_type": "code",
      "execution_count": null,
      "id": "427936e1-1f8c-4418-a8b5-d29d71b7f3cf",
      "metadata": {
        "id": "427936e1-1f8c-4418-a8b5-d29d71b7f3cf",
        "outputId": "ce42723c-1d4b-411f-e732-90ffa652021f"
      },
      "outputs": [
        {
          "data": {
            "text/plain": [
              "array([4., 8.])"
            ]
          },
          "execution_count": 153,
          "metadata": {},
          "output_type": "execute_result"
        }
      ],
      "source": [
        "data * 4"
      ]
    },
    {
      "cell_type": "code",
      "execution_count": null,
      "id": "3608a12a-1831-4317-9ccc-8bd9453beaf8",
      "metadata": {
        "id": "3608a12a-1831-4317-9ccc-8bd9453beaf8"
      },
      "outputs": [],
      "source": [
        "c = np.array([[1, 5], [2,4]])"
      ]
    },
    {
      "cell_type": "code",
      "execution_count": null,
      "id": "d3e0ab71-9b34-436e-9394-70499b4291f8",
      "metadata": {
        "id": "d3e0ab71-9b34-436e-9394-70499b4291f8",
        "outputId": "820ff8de-981e-4464-d4f1-d8a5541719d6"
      },
      "outputs": [
        {
          "data": {
            "text/plain": [
              "array([[1, 5],\n",
              "       [2, 4]])"
            ]
          },
          "execution_count": 161,
          "metadata": {},
          "output_type": "execute_result"
        }
      ],
      "source": [
        "c"
      ]
    },
    {
      "cell_type": "code",
      "execution_count": null,
      "id": "369a6b6c-a838-4c31-b6a9-39c1c5d9bb21",
      "metadata": {
        "id": "369a6b6c-a838-4c31-b6a9-39c1c5d9bb21",
        "outputId": "4557d1a0-7083-4926-aeea-2708934b720e"
      },
      "outputs": [
        {
          "data": {
            "text/plain": [
              "5"
            ]
          },
          "execution_count": 162,
          "metadata": {},
          "output_type": "execute_result"
        }
      ],
      "source": [
        "c.max()"
      ]
    },
    {
      "cell_type": "code",
      "execution_count": null,
      "id": "1bcee361-0d89-4cbb-b790-7f6a34ec4665",
      "metadata": {
        "id": "1bcee361-0d89-4cbb-b790-7f6a34ec4665",
        "outputId": "252de486-7285-43ee-c9bb-6837368fef06"
      },
      "outputs": [
        {
          "data": {
            "text/plain": [
              "1"
            ]
          },
          "execution_count": 163,
          "metadata": {},
          "output_type": "execute_result"
        }
      ],
      "source": [
        "c.min()"
      ]
    },
    {
      "cell_type": "code",
      "execution_count": null,
      "id": "58a03961-b3d0-4b30-b4c1-36d0d9f75192",
      "metadata": {
        "id": "58a03961-b3d0-4b30-b4c1-36d0d9f75192",
        "outputId": "f9141f5b-a91d-4451-a673-d0d68cf27b7a"
      },
      "outputs": [
        {
          "data": {
            "text/plain": [
              "2.0"
            ]
          },
          "execution_count": 164,
          "metadata": {},
          "output_type": "execute_result"
        }
      ],
      "source": [
        "a.min(axis=0)"
      ]
    },
    {
      "cell_type": "code",
      "execution_count": null,
      "id": "da3021a2-6350-4207-b278-477b4d688263",
      "metadata": {
        "id": "da3021a2-6350-4207-b278-477b4d688263"
      },
      "outputs": [],
      "source": [
        "data = np.array([[1, 2], [3, 4], [5, 6]])"
      ]
    },
    {
      "cell_type": "code",
      "execution_count": null,
      "id": "6ed4030c-f5e6-45d8-9439-0d497ec36aec",
      "metadata": {
        "id": "6ed4030c-f5e6-45d8-9439-0d497ec36aec",
        "outputId": "1c0aa218-6122-49a3-f5d8-5c68c7f8c850"
      },
      "outputs": [
        {
          "data": {
            "text/plain": [
              "array([[1, 2],\n",
              "       [3, 4],\n",
              "       [5, 6]])"
            ]
          },
          "execution_count": 166,
          "metadata": {},
          "output_type": "execute_result"
        }
      ],
      "source": [
        "data"
      ]
    },
    {
      "cell_type": "code",
      "execution_count": null,
      "id": "ae876a58-9646-4c38-9daa-4fb73e47f5fa",
      "metadata": {
        "id": "ae876a58-9646-4c38-9daa-4fb73e47f5fa",
        "outputId": "4868fc01-9868-45e5-c916-658a094c2a07"
      },
      "outputs": [
        {
          "data": {
            "text/plain": [
              "2"
            ]
          },
          "execution_count": 167,
          "metadata": {},
          "output_type": "execute_result"
        }
      ],
      "source": [
        "data[0,1]"
      ]
    },
    {
      "cell_type": "code",
      "execution_count": null,
      "id": "f7edd155-0feb-4f52-b2fa-a32e218af761",
      "metadata": {
        "id": "f7edd155-0feb-4f52-b2fa-a32e218af761",
        "outputId": "1405a752-3983-4855-d4df-8d1454965dd9"
      },
      "outputs": [
        {
          "data": {
            "text/plain": [
              "array([[3, 4],\n",
              "       [5, 6]])"
            ]
          },
          "execution_count": 168,
          "metadata": {},
          "output_type": "execute_result"
        }
      ],
      "source": [
        "data[1:3]"
      ]
    },
    {
      "cell_type": "code",
      "execution_count": null,
      "id": "d1468965-ae09-4080-a7dc-8f995328e88d",
      "metadata": {
        "id": "d1468965-ae09-4080-a7dc-8f995328e88d",
        "outputId": "6e0c5511-bf5a-4db4-a38d-edfea59c401b"
      },
      "outputs": [
        {
          "data": {
            "text/plain": [
              "array([1, 3])"
            ]
          },
          "execution_count": 169,
          "metadata": {},
          "output_type": "execute_result"
        }
      ],
      "source": [
        "data[0:2, 0]"
      ]
    },
    {
      "cell_type": "code",
      "execution_count": null,
      "id": "78e3acf3-8053-48d2-b298-85170876ab74",
      "metadata": {
        "id": "78e3acf3-8053-48d2-b298-85170876ab74",
        "outputId": "1bc471e6-da5e-4113-c2c8-ef61b8a05ddf"
      },
      "outputs": [
        {
          "data": {
            "text/plain": [
              "6"
            ]
          },
          "execution_count": 170,
          "metadata": {},
          "output_type": "execute_result"
        }
      ],
      "source": [
        "data.max()"
      ]
    },
    {
      "cell_type": "code",
      "execution_count": null,
      "id": "c10e60f6-424a-4d24-ab4f-06179970bbff",
      "metadata": {
        "id": "c10e60f6-424a-4d24-ab4f-06179970bbff",
        "outputId": "7ba52496-b680-40ef-eb19-01163fc5ce96"
      },
      "outputs": [
        {
          "data": {
            "text/plain": [
              "1"
            ]
          },
          "execution_count": 171,
          "metadata": {},
          "output_type": "execute_result"
        }
      ],
      "source": [
        "data.min()"
      ]
    },
    {
      "cell_type": "code",
      "execution_count": null,
      "id": "f6d222bb-e10c-453d-9c13-f423e05422d0",
      "metadata": {
        "id": "f6d222bb-e10c-453d-9c13-f423e05422d0"
      },
      "outputs": [],
      "source": [
        "a = np.array([11, 11, 12, 13, 14, 15, 16, 17, 12, 13, 11, 14, 18, 19, 20])"
      ]
    },
    {
      "cell_type": "code",
      "execution_count": null,
      "id": "dbf48c18-d581-43b9-982d-66efe182e3a2",
      "metadata": {
        "id": "dbf48c18-d581-43b9-982d-66efe182e3a2",
        "outputId": "a8dfba10-dcfa-47c5-cbd6-701929750bb4"
      },
      "outputs": [
        {
          "data": {
            "text/plain": [
              "(array([11, 12, 13, 14, 15, 16, 17, 18, 19, 20]),\n",
              " array([ 0,  2,  3,  4,  5,  6,  7, 12, 13, 14]))"
            ]
          },
          "execution_count": 176,
          "metadata": {},
          "output_type": "execute_result"
        }
      ],
      "source": [
        "np.unique(a, return_index=True)"
      ]
    },
    {
      "cell_type": "code",
      "execution_count": null,
      "id": "f7bdafc3-f979-48ce-a385-27f0b624d680",
      "metadata": {
        "id": "f7bdafc3-f979-48ce-a385-27f0b624d680"
      },
      "outputs": [],
      "source": []
    }
  ],
  "metadata": {
    "kernelspec": {
      "display_name": "Python 3 (ipykernel)",
      "language": "python",
      "name": "python3"
    },
    "language_info": {
      "codemirror_mode": {
        "name": "ipython",
        "version": 3
      },
      "file_extension": ".py",
      "mimetype": "text/x-python",
      "name": "python",
      "nbconvert_exporter": "python",
      "pygments_lexer": "ipython3",
      "version": "3.11.5"
    },
    "colab": {
      "provenance": [],
      "include_colab_link": true
    }
  },
  "nbformat": 4,
  "nbformat_minor": 5
}